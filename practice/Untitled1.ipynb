{
 "cells": [
  {
   "cell_type": "code",
   "execution_count": 3,
   "metadata": {},
   "outputs": [
    {
     "name": "stdout",
     "output_type": "stream",
     "text": [
      "10\n",
      "9\n",
      "8\n",
      "7\n",
      "6\n",
      "5\n",
      "4\n",
      "3\n",
      "2\n",
      "1\n"
     ]
    }
   ],
   "source": [
    "for i in range(10,0,-1):\n",
    "    print(i)"
   ]
  },
  {
   "cell_type": "code",
   "execution_count": 4,
   "metadata": {},
   "outputs": [],
   "source": [
    "i = 10"
   ]
  },
  {
   "cell_type": "code",
   "execution_count": 16,
   "metadata": {},
   "outputs": [
    {
     "name": "stdout",
     "output_type": "stream",
     "text": [
      "1\n",
      "2\n",
      "3\n",
      "4\n",
      "5\n"
     ]
    }
   ],
   "source": [
    "a = 0\n",
    "b = 8\n",
    "\n",
    "for i in range(5):\n",
    "    while a != b:\n",
    "        if a == 5:\n",
    "            break\n",
    "        a += 1\n",
    "        print(a)"
   ]
  },
  {
   "cell_type": "code",
   "execution_count": 17,
   "metadata": {},
   "outputs": [
    {
     "name": "stdout",
     "output_type": "stream",
     "text": [
      "5\n"
     ]
    }
   ],
   "source": [
    "print(a)"
   ]
  },
  {
   "cell_type": "code",
   "execution_count": 11,
   "metadata": {},
   "outputs": [
    {
     "name": "stdout",
     "output_type": "stream",
     "text": [
      "0\n",
      "1\n",
      "2\n",
      "8\n",
      "4\n",
      "5\n",
      "6\n",
      "7\n",
      "8\n",
      "9\n"
     ]
    }
   ],
   "source": [
    "for i in range(10):\n",
    "    if i == 3:\n",
    "        i =8\n",
    "    print(i)"
   ]
  },
  {
   "cell_type": "code",
   "execution_count": 14,
   "metadata": {},
   "outputs": [
    {
     "name": "stdout",
     "output_type": "stream",
     "text": [
      "1\n",
      "2\n",
      "3\n",
      "4\n",
      "10\n"
     ]
    }
   ],
   "source": [
    "i = 0\n",
    "while i != 10:\n",
    "    if i != 5:\n",
    "        i += 1\n",
    "    if i == 5:\n",
    "        i = 10\n",
    "    print(i)"
   ]
  },
  {
   "cell_type": "code",
   "execution_count": null,
   "metadata": {},
   "outputs": [],
   "source": [
    "   \"\"\"scores = list(set(scores))\n",
    "    scores.sort(reverse = True)\n",
    "    for i in range(len(scores)-1,0,-1):\n",
    "        print(scores[i])\n",
    "    \n",
    "    while i == 0:\"\"\"\n",
    "\n",
    "    \n",
    "    \n",
    "    \"\"\"for i in range(len(alice)):\n",
    "        scores.append(alice[i])\n",
    "        scores = list(set(scores))\n",
    "        scores.sort(reverse = True)\n",
    "        for j in range(len(scores)):\n",
    "            if scores[j] == alice[i]:\n",
    "                alice[i] = j+1\n",
    "                break\"\"\"\n",
    "\n",
    "#Alicerank = []\n",
    "    # 순서 -> alice[i], alice[i-1], ... ,alice[0]\n",
    "    a = len(scores)\n",
    "    while i != 0:\n",
    "        while a !=\n",
    "        for j in range(len(scores)):\n",
    "\n",
    "            if alice[i] >= scores[j]:\n",
    "                alice[i] = (j+1)\n",
    "                #Alicerank.append(j+1)\n",
    "                break\n",
    "            elif (j+1) == len(scores):\n",
    "                alice[i] = (j+2)\n",
    "                #Alicerank.append(j+2)\n",
    "                break\n",
    "\n",
    "\n",
    "\n",
    "    for i in range(len(alice)):\n",
    "        for j in range(len(scores)):\n",
    "\n",
    "            if alice[i] >= scores[j]:\n",
    "                alice[i] = (j+1)\n",
    "                #Alicerank.append(j+1)\n",
    "                break\n",
    "            elif (j+1) == len(scores):\n",
    "                alice[i] = (j+2)\n",
    "                #Alicerank.append(j+2)\n",
    "                break\n",
    "\n",
    "            if \n",
    "            if alice[i] >= scores[j]:\n",
    "                alice[i] = (j+1)\n",
    "                #Alicerank.append(j+1)\n",
    "                break\n",
    "            elif (j+1) == len(scores):\n",
    "                alice[i] = (j+2)\n",
    "                #Alicerank.append(j+2)\n",
    "                break\n",
    "    \n"
   ]
  },
  {
   "cell_type": "code",
   "execution_count": 18,
   "metadata": {},
   "outputs": [],
   "source": [
    "a = 997612619+ 934920795 +998879231+ 999926463"
   ]
  },
  {
   "cell_type": "code",
   "execution_count": 19,
   "metadata": {},
   "outputs": [
    {
     "data": {
      "text/plain": [
       "3931339108"
      ]
     },
     "execution_count": 19,
     "metadata": {},
     "output_type": "execute_result"
    }
   ],
   "source": [
    "a"
   ]
  },
  {
   "cell_type": "code",
   "execution_count": 20,
   "metadata": {},
   "outputs": [],
   "source": [
    "b = 997612619+ 960369681 +999013654 +997409523 "
   ]
  },
  {
   "cell_type": "code",
   "execution_count": 21,
   "metadata": {},
   "outputs": [
    {
     "data": {
      "text/plain": [
       "3954405477"
      ]
     },
     "execution_count": 21,
     "metadata": {},
     "output_type": "execute_result"
    }
   ],
   "source": [
    "b"
   ]
  },
  {
   "cell_type": "code",
   "execution_count": null,
   "metadata": {},
   "outputs": [],
   "source": []
  }
 ],
 "metadata": {
  "kernelspec": {
   "display_name": "Python 3",
   "language": "python",
   "name": "python3"
  },
  "language_info": {
   "codemirror_mode": {
    "name": "ipython",
    "version": 3
   },
   "file_extension": ".py",
   "mimetype": "text/x-python",
   "name": "python",
   "nbconvert_exporter": "python",
   "pygments_lexer": "ipython3",
   "version": "3.7.6"
  }
 },
 "nbformat": 4,
 "nbformat_minor": 4
}
