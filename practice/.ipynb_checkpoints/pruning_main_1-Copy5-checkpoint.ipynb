{
 "cells": [
  {
   "cell_type": "code",
   "execution_count": 1,
   "metadata": {},
   "outputs": [
    {
     "name": "stdout",
     "output_type": "stream",
     "text": [
      "Available devices  2\n",
      "Current cuda device  1\n",
      "GeForce RTX 2080 Ti\n",
      "cpu와 cuda 중 다음 기기로 학습함: cuda:1 \n",
      "\n"
     ]
    }
   ],
   "source": [
    "import torch\n",
    "import torch.nn as nn\n",
    "import torch.optim as optim\n",
    "import torchvision.datasets as dsets\n",
    "import torchvision.transforms as transforms\n",
    "import torch.nn.init as init\n",
    "import torch.nn.functional as F\n",
    "import visdom\n",
    "import copy\n",
    "import torch.nn.utils.prune as prune\n",
    "from tqdm.notebook import tqdm\n",
    "import numpy as np\n",
    "import timeit\n",
    "from functools import partial\n",
    "\n",
    "# custom librarys (model, parameters...)\n",
    "import custom.utils as cu\n",
    "\n",
    "torch.manual_seed(55)\n",
    "torch.cuda.manual_seed_all(55)\n",
    "torch.backends.cudnn.enabled = False\n",
    "\n",
    "GPU_NUM = 1\n",
    "device = torch.device(f'cuda:{GPU_NUM}' if torch.cuda.is_available() else 'cpu')\n",
    "torch.cuda.set_device(device)\n",
    "\n",
    "print ('Available devices ', torch.cuda.device_count())\n",
    "print ('Current cuda device ', torch.cuda.current_device())\n",
    "print(torch.cuda.get_device_name(device))\n",
    "\n",
    "print(\"cpu와 cuda 중 다음 기기로 학습함:\", device, '\\n')"
   ]
  },
  {
   "cell_type": "code",
   "execution_count": 2,
   "metadata": {},
   "outputs": [
    {
     "name": "stdout",
     "output_type": "stream",
     "text": [
      "Parameter containing:\n",
      "tensor([[0.4748, 0.6191],\n",
      "        [0.3449, 0.0954]], requires_grad=True)\n",
      "tensor([0, 1, 1, 0, 1, 0, 0, 0, 1, 0])\n",
      "tensor([[1., 0.],\n",
      "        [1., 1.]])\n"
     ]
    }
   ],
   "source": [
    "model = nn.Sequential(\n",
    "    nn.Linear(2, 2),\n",
    "    nn.Sigmoid(),\n",
    "    nn.Linear(2, 2)\n",
    ")\n",
    "model\n",
    "print(model[0].weight)\n",
    "batch_size = 10\n",
    "x = torch.randn(batch_size, 2)\n",
    "target = torch.randint(0, 2, (batch_size,))\n",
    "\n",
    "print(target)\n",
    "\n",
    "gradient_mask = torch.zeros(2, 2)\n",
    "gradient_mask[0, 0] = 1.0\n",
    "gradient_mask[1, 1] = 1.0\n",
    "gradient_mask[1, 0] = 1.0\n",
    "print(gradient_mask)\n",
    "criterion = nn.CrossEntropyLoss()\n",
    "\n",
    "for name, i in model.named_parameters():\n",
    "    if '0.weight' in name:\n",
    "        i.data *= gradient_mask"
   ]
  },
  {
   "cell_type": "code",
   "execution_count": null,
   "metadata": {},
   "outputs": [],
   "source": [
    "model[0].weight.register_hook(lambda grad: grad.mul_(gradient_mask))\n",
    "optimizer = optim.SGD(model.parameters(), lr=1.0 ,weight_decay = 0.003)\n",
    "for i in range(200):\n",
    "    # Get weight before training\n",
    "    w0 = model[0].weight.detach().clone()\n",
    "\n",
    "    # Single training iteration\n",
    "    optimizer.zero_grad()\n",
    "    output = model(x)\n",
    "    loss = criterion(output, target)\n",
    "    loss.backward()\n",
    "    #print('Gradient: ', model[0].weight.grad)\n",
    "\n",
    "    optimizer.step()\n",
    "    if i == 0:\n",
    "        print('Gradient: ', model[0].weight.grad)\n",
    "        print(model[0].weight, '\\n')\n",
    "    elif i == 99:\n",
    "        print('Gradient: ', model[0].weight.grad)\n",
    "        print(model[0].weight, '\\n')"
   ]
  },
  {
   "cell_type": "code",
   "execution_count": null,
   "metadata": {},
   "outputs": [],
   "source": [
    "optimizer = optim.SGD(model.parameters(), lr=1.0 ,weight_decay = 0.003)\n",
    "for i in range(200):\n",
    "    # Get weight before training\n",
    "    w0 = model[0].weight.detach().clone()\n",
    "\n",
    "    # Single training iteration\n",
    "    optimizer.zero_grad()\n",
    "    output = model(x)\n",
    "    loss = criterion(output, target)\n",
    "    loss.backward()\n",
    "    #print('Gradient: ', model[0].weight.grad)\n",
    "\n",
    "    for name, p in model.named_parameters():\n",
    "        if '0.weight' in name:\n",
    "            p.grad.data *= gradient_mask\n",
    "    print(model[0].weight.grad)   \n",
    "    optimizer.step()\n",
    "    #print(model[0].weight.grad)\n",
    "    print(model[0].weight)\n",
    "    \"\"\"if i == 0:\n",
    "        print('Gradient: ', model[0].weight.grad)\n",
    "        print(model[0].weight, '\\n')\n",
    "    elif i == 99:\n",
    "        print('Gradient: ', model[0].weight.grad)\n",
    "        print(model[0].weight, '\\n')\"\"\""
   ]
  },
  {
   "cell_type": "code",
   "execution_count": null,
   "metadata": {},
   "outputs": [],
   "source": []
  },
  {
   "cell_type": "code",
   "execution_count": 6,
   "metadata": {},
   "outputs": [
    {
     "name": "stdout",
     "output_type": "stream",
     "text": [
      "Parameter containing:\n",
      "tensor([[0.4513, 0.0000],\n",
      "        [0.3790, 0.0638]], requires_grad=True)\n",
      "tensor([[ 0.0084,  0.0000],\n",
      "        [-0.0138,  0.0134]])\n",
      "tensor([[ 0.0084,  0.0000],\n",
      "        [-0.0138,  0.0134]])\n",
      "Parameter containing:\n",
      "tensor([[0.4513, 0.0000],\n",
      "        [0.3790, 0.0638]], requires_grad=True)\n",
      "tensor([[ 0.0081, -0.0060],\n",
      "        [-0.0136,  0.0134]])\n",
      "tensor([[ 0.0081, -0.0060],\n",
      "        [-0.0136,  0.0134]])\n",
      "Parameter containing:\n",
      "tensor([[0.4513, 0.0000],\n",
      "        [0.3790, 0.0638]], requires_grad=True)\n",
      "tensor([[ 0.0081, -0.0060],\n",
      "        [-0.0136,  0.0134]])\n",
      "[[ 0.00811383 -0.00604693]\n",
      " [-0.01363752  0.01343278]]\n",
      "[[ 0.00811383  0.        ]\n",
      " [-0.01363752  0.01343278]]\n",
      "tensor([[ 0.0081,  0.0000],\n",
      "        [-0.0136,  0.0134]])\n"
     ]
    }
   ],
   "source": [
    "optimizer = optim.SGD(model.parameters(), lr=1.0 ,weight_decay = 0.003)\n",
    "EPS = 1e-8\n",
    "for i in range(1):\n",
    "    # Get weight before training\n",
    "    w0 = model[0].weight.detach().clone()\n",
    "    print(model[0].weight)\n",
    "    print(model[0].weight.grad)\n",
    "    print(model[0].weight.grad.data)\n",
    "    # Single training iteration\n",
    "    optimizer.zero_grad()\n",
    "    output = model(x)\n",
    "    loss = criterion(output, target)\n",
    "    loss.backward()\n",
    "    #print('Gradient: ', model[0].weight.grad)\n",
    "    print(model[0].weight)\n",
    "    print(model[0].weight.grad)\n",
    "    print(model[0].weight.grad.data)\n",
    "    for name, p in model.named_parameters():\n",
    "        if '0.weight' in name:\n",
    "            print(p)\n",
    "            print(p.grad.data)\n",
    "            tensor = p.data.numpy()\n",
    "            grad_tensor = p.grad.data.numpy()\n",
    "            print(grad_tensor)\n",
    "            grad_tensor = np.where(tensor < EPS, 0, grad_tensor)\n",
    "            print(grad_tensor)\n",
    "            p.grad.data = torch.from_numpy(grad_tensor)\n",
    "            print(p.grad.data)\n",
    "    #print(model[0].weight.grad)    \n",
    "    optimizer.step()\n",
    "    #print(model[0].weight)\n",
    "    \"\"\"\n",
    "    w1 = model[0].weight.detach().clone()\n",
    "\n",
    "    if i == 0:\n",
    "        print('Gradient: ', model[0].weight.grad)\n",
    "        print(model[0].weight, '\\n')\n",
    "    elif i == 99:\n",
    "        print('Gradient: ', model[0].weight.grad)\n",
    "        print(model[0].weight, '\\n')\"\"\"\n",
    "\n"
   ]
  },
  {
   "cell_type": "code",
   "execution_count": null,
   "metadata": {},
   "outputs": [],
   "source": [
    "sum(w0 != w1)"
   ]
  },
  {
   "cell_type": "code",
   "execution_count": null,
   "metadata": {},
   "outputs": [],
   "source": [
    "(0 != w1).sum()"
   ]
  },
  {
   "cell_type": "code",
   "execution_count": null,
   "metadata": {},
   "outputs": [],
   "source": [
    "        for name, p in model.named_parameters():\n",
    "            if 'weight' in name:\n",
    "                tensor = p.data.cpu().numpy()\n",
    "                grad_tensor = p.grad.data.cpu().numpy()\n",
    "                grad_tensor = np.where(tensor < EPS, 0, grad_tensor)\n",
    "                p.grad.data = torch.from_numpy(grad_tensor).to(device)"
   ]
  },
  {
   "cell_type": "code",
   "execution_count": null,
   "metadata": {},
   "outputs": [],
   "source": [
    "model_type = 'LeNet300'\n",
    "#model_type = 'Conv6'"
   ]
  },
  {
   "cell_type": "code",
   "execution_count": null,
   "metadata": {},
   "outputs": [],
   "source": [
    "# train, test, prune function\n",
    "def train(model, dataloader, optimizer, criterion, cp_mask):\n",
    "    model.train()\n",
    "    running_loss = 0.0\n",
    "    for batch_idx, (data, label) in enumerate(dataloader):\n",
    "        data, label = data.to(device), label.to(device)\n",
    "        optimizer.zero_grad()\n",
    "        outputs = model(data)\n",
    "        loss = criterion(outputs, label)\n",
    "        loss.backward()\n",
    "        # 0-weight 학습 방지\n",
    "        \"\"\"\n",
    "        if cp_mask:\n",
    "            i = 0\n",
    "            for name, p in model.named_parameters():\n",
    "                if 'weight' in name:\n",
    "                    p.grad.data *= cp_mask[i]\n",
    "                    i += 1\n",
    "        \"\"\"            \n",
    "        optimizer.step()\n",
    "        running_loss += loss / len(dataloader)\n",
    "    return running_loss\n",
    "\n",
    "def test(model, dataloader, criterion):\n",
    "    model.eval()\n",
    "    correct = 0\n",
    "    total = 0\n",
    "    test_loss = 0\n",
    "    with torch.no_grad():\n",
    "        for data, label in dataloader:\n",
    "            data, label = data.to(device), label.to(device)\n",
    "            outputs = model(data)\n",
    "            _, predicted = torch.max(outputs.data, 1)\n",
    "            #test_loss += F.nll_loss(outputs, label, reduction='sum').item() # sum up batch loss\n",
    "            loss = criterion(outputs, label)\n",
    "            #predicted = outputs.data.max(1, keepdim=True)[1]\n",
    "            #correct += predicted.eq(label.data.view_as(predicted)).sum().item()\n",
    "            \n",
    "            test_loss += loss / len(dataloader)\n",
    "            total += label.size(0)\n",
    "            correct += (predicted == label).sum().item()\n",
    "        #accuracy =  correct / len(dataloader)\n",
    "        # 로더 -> 배치 개수 로더.dataset -> 전체 길이, \n",
    "    return (correct/total), test_loss\n",
    "\n",
    "# prune function\n",
    "# pruning mask 생성 -> mask 복사 -> init값 복사 -> prune 진행\n",
    "def weight_init(model1, model2, c_rate, f_rate, o_rate):\n",
    "    # layer별로 지정된 rate만큼 prune mask 생성\n",
    "    for name, module in model1.named_modules():\n",
    "        if isinstance(module, nn.Conv2d):\n",
    "            prune.l1_unstructured(module, name = 'weight', amount = c_rate)\n",
    "        if isinstance(module, nn.Linear):\n",
    "            if name != 'fc3':\n",
    "                prune.l1_unstructured(module, name = 'weight', amount = f_rate)\n",
    "            else:\n",
    "                prune.l1_unstructured(module, name = 'weight', amount = o_rate)\n",
    "                        \n",
    "    # mask 복사\n",
    "    cp_mask = []\n",
    "    for name, mask in model1.named_buffers():\n",
    "        cp_mask.append(mask)\n",
    "    \n",
    "    # init 값을 model에 복사\n",
    "    for name, p in model1.named_parameters():\n",
    "        if 'weight_orig' in name:\n",
    "            for name2, p2 in model2.named_parameters():\n",
    "                if name[0:len(name) - 5] in name2:\n",
    "                    p.data = copy.deepcopy(p2.data)\n",
    "        if 'bias_orig' in name:\n",
    "            for name2, p2 in model2.named_parameters():\n",
    "                if name[0:len(name) - 5] in name2:\n",
    "                    p.data = copy.deepcopy(p2.data)\n",
    "                    \n",
    "    # prune 진행\n",
    "    for name, module in model1.named_modules():\n",
    "        if isinstance(module, nn.Conv2d):\n",
    "            prune.remove(module, name = 'weight')\n",
    "        elif isinstance(module, nn.Linear):\n",
    "            prune.remove(module, name = 'weight')\n",
    "            \n",
    "    # copy된 mask return\n",
    "    return cp_mask\n",
    "\n",
    "# weight count function\n",
    "# dict type['name' : [all, non_zero, zero, ratio]]\n",
    "def weight_counter(model):\n",
    "    layer_weight = {'all.weight':[0, 0, 0, 0]}\n",
    "    \n",
    "    for name, p in model.named_parameters():\n",
    "        if 'weight' in name:\n",
    "            remain, pruned = (p != 0).sum().item(), (p == 0).sum().item()\n",
    "            layer_weight[name] = [remain+pruned, remain, pruned, round((remain/(remain+pruned))*100, 2)]\n",
    "            \n",
    "    for i in layer_weight.keys():\n",
    "        for j in range(0, 3):\n",
    "            layer_weight['all.weight'][j] += layer_weight[i][j]\n",
    "    layer_weight['all.weight'][3] = round(layer_weight['all.weight'][1]/layer_weight['all.weight'][0]*100, 2)\n",
    "\n",
    "    print(\"Layer\".center(12), \"Weight\".center(39), \"Ratio(%)\".rjust(7), sep='')\n",
    "    for i in layer_weight.keys():\n",
    "        print(\"%s\" % i.ljust(13), \":\",\n",
    "              (\"%s (%s | %s)\" % (layer_weight[i][0], layer_weight[i][1], layer_weight[i][2])).center(36),\n",
    "              (\"%.2f\" % layer_weight[i][3]).rjust(7),\n",
    "              sep=''\n",
    "             )\n",
    "        \n",
    "    return layer_weight"
   ]
  },
  {
   "cell_type": "code",
   "execution_count": null,
   "metadata": {},
   "outputs": [],
   "source": [
    "param = cu.parameters()\n",
    "\n",
    "if model_type == 'LeNet300':\n",
    "    model = cu.LeNet300().to(device)\n",
    "elif model_type == 'Conv6':\n",
    "    model = cu.Conv6().to(device)\n",
    "    \n",
    "param.type(model_type)    \n",
    "model_init = copy.deepcopy(model)\n",
    "criterion = nn.CrossEntropyLoss().to(device)"
   ]
  },
  {
   "cell_type": "code",
   "execution_count": null,
   "metadata": {},
   "outputs": [],
   "source": [
    "weight_counter(model)"
   ]
  },
  {
   "cell_type": "code",
   "execution_count": null,
   "metadata": {},
   "outputs": [],
   "source": [
    "i = 0\n",
    "cp_mask = []\n",
    "cp_mask = weight_init(model, model_init, \n",
    "                           (0.5),\n",
    "                           (0.2),\n",
    "                           (0.1)\n",
    "                          )"
   ]
  },
  {
   "cell_type": "code",
   "execution_count": null,
   "metadata": {},
   "outputs": [],
   "source": [
    "optimizer = optim.Adam(model.parameters(), lr = param.lr, weight_decay = param.weight_decay)"
   ]
  },
  {
   "cell_type": "code",
   "execution_count": null,
   "metadata": {},
   "outputs": [],
   "source": [
    "running_loss = train(model, param.train_loader, optimizer, criterion, cp_mask)"
   ]
  },
  {
   "cell_type": "code",
   "execution_count": null,
   "metadata": {},
   "outputs": [],
   "source": [
    "def grad_hook_template(param, name, grad):\n",
    "    print(f'Receive grad for {name} w whape {grad.shape}')"
   ]
  },
  {
   "cell_type": "code",
   "execution_count": null,
   "metadata": {},
   "outputs": [],
   "source": []
  },
  {
   "cell_type": "code",
   "execution_count": null,
   "metadata": {},
   "outputs": [],
   "source": [
    "a = 0\n",
    "for name, i in model.named_parameters():\n",
    "    if 'weight' in name:\n",
    "        #print(len(i))\n",
    "        #print(len(b[name]))\n",
    "        print(f'Register hook for {name}')\n",
    "        i.register_hook(partial(grad_hook_template, name=name, i=i))\n",
    "        a += 1\n",
    "        #partial(grad_hook_template, name=name, param=param)\n",
    "        #lambda grad: grad_hook_template(param, name, grad)"
   ]
  },
  {
   "cell_type": "code",
   "execution_count": null,
   "metadata": {},
   "outputs": [],
   "source": [
    "for name, i in model.named_parameters():\n",
    "    #print(name, i)\n",
    "    if 'fc1.weight' in name:\n",
    "        a = i.register_hook(lambda grad: grad * cp_mask[0]).is_leaf\n",
    "    elif 'fc2.weight' in name:\n",
    "        b = i.register_hook(lambda grad: grad * cp_mask[1])\n",
    "    elif 'fc3.weight' in name:\n",
    "        c = i.register_hook(lambda grad: grad * cp_mask[2])"
   ]
  },
  {
   "cell_type": "code",
   "execution_count": null,
   "metadata": {},
   "outputs": [],
   "source": [
    "q = 0\n",
    "for name, i in model.named_parameters():\n",
    "    if 'weight' in name:\n",
    "        i.Variable_hook(lambda grad:grad.mul_(cp_mask[q]))\n",
    "        q += 1"
   ]
  },
  {
   "cell_type": "code",
   "execution_count": null,
   "metadata": {},
   "outputs": [],
   "source": [
    "q = 0\n",
    "for name, i in model.named_parameters():\n",
    "    if 'weight' in name:\n",
    "        i.register_hook(lambda grad:grad.mul_(b[name]))\n",
    "        "
   ]
  },
  {
   "cell_type": "code",
   "execution_count": null,
   "metadata": {},
   "outputs": [],
   "source": [
    "a = []\n",
    "b = {}\n",
    "h = []\n",
    "c = 0\n",
    "for i in model.state_dict().keys():\n",
    "    if 'weight' in i:\n",
    "        print(i)\n",
    "        b[i] = cp_mask[c]\n",
    "        h.append(i)\n",
    "        c += 1\n",
    "print(h)"
   ]
  },
  {
   "cell_type": "code",
   "execution_count": null,
   "metadata": {},
   "outputs": [],
   "source": [
    "for i in range(len(h)):\n",
    "    for name, j in model.named_parameters():\n",
    "        if h[i] in name:\n",
    "            print(h[i])\n",
    "            j.register_hook(lambda grad : grad.mul_(cp_mask[i]))\n",
    "    #if \n",
    "    #print(i)"
   ]
  },
  {
   "cell_type": "markdown",
   "metadata": {},
   "source": [
    "a = []\n",
    "for i in range(len(cp_mask)):\n",
    "    a.append(i)\n",
    "print(a)"
   ]
  },
  {
   "cell_type": "code",
   "execution_count": null,
   "metadata": {},
   "outputs": [],
   "source": [
    "a = 0"
   ]
  },
  {
   "cell_type": "code",
   "execution_count": null,
   "metadata": {},
   "outputs": [],
   "source": [
    "q = 0\n",
    "for name, i in model.named_parameters():\n",
    "    if 'weight' in name:\n",
    "        a = copy.deepcopy(q)\n",
    "        print(a, q)\n",
    "        i.register_hook(lambda grad:grad.mul_(cp_mask[a]))\n",
    "        q += 1\n"
   ]
  },
  {
   "cell_type": "code",
   "execution_count": null,
   "metadata": {},
   "outputs": [],
   "source": [
    "grads = {}\n",
    "def save_grad(name):\n",
    "    def hook(grad):\n",
    "        grads[name] = grad\n",
    "    print(hook)\n",
    "    return hook"
   ]
  },
  {
   "cell_type": "code",
   "execution_count": null,
   "metadata": {},
   "outputs": [],
   "source": [
    "a = 0\n",
    "for name, i in model.named_parameters():\n",
    "    if 'weight' in name:\n",
    "        #print(len(i))\n",
    "        #print(len(b[name]))\n",
    "        i.register_hook(save_grad(lambda grad:grad.mul_(b[name])))\n",
    "        "
   ]
  },
  {
   "cell_type": "code",
   "execution_count": null,
   "metadata": {},
   "outputs": [],
   "source": []
  },
  {
   "cell_type": "code",
   "execution_count": null,
   "metadata": {},
   "outputs": [],
   "source": [
    "grads"
   ]
  },
  {
   "cell_type": "code",
   "execution_count": null,
   "metadata": {},
   "outputs": [],
   "source": [
    "torch.utils.hooks.RemovableHandle"
   ]
  },
  {
   "cell_type": "code",
   "execution_count": null,
   "metadata": {},
   "outputs": [],
   "source": [
    "a"
   ]
  },
  {
   "cell_type": "code",
   "execution_count": null,
   "metadata": {},
   "outputs": [],
   "source": [
    "a = torch.FloatTensor()"
   ]
  },
  {
   "cell_type": "code",
   "execution_count": null,
   "metadata": {},
   "outputs": [],
   "source": [
    "b = torch.FloatTensor((1, 2, 3))"
   ]
  },
  {
   "cell_type": "code",
   "execution_count": null,
   "metadata": {},
   "outputs": [],
   "source": [
    "b"
   ]
  },
  {
   "cell_type": "code",
   "execution_count": null,
   "metadata": {},
   "outputs": [],
   "source": [
    "c = torch.FloatTensor((11, 22, 33, 44))"
   ]
  },
  {
   "cell_type": "code",
   "execution_count": null,
   "metadata": {},
   "outputs": [],
   "source": [
    "c"
   ]
  },
  {
   "cell_type": "code",
   "execution_count": null,
   "metadata": {},
   "outputs": [],
   "source": [
    "d = torch.cat(tuple(b), dim=1)"
   ]
  },
  {
   "cell_type": "code",
   "execution_count": null,
   "metadata": {},
   "outputs": [],
   "source": []
  },
  {
   "cell_type": "code",
   "execution_count": null,
   "metadata": {},
   "outputs": [],
   "source": []
  },
  {
   "cell_type": "code",
   "execution_count": null,
   "metadata": {},
   "outputs": [],
   "source": [
    "type(a)"
   ]
  },
  {
   "cell_type": "code",
   "execution_count": null,
   "metadata": {},
   "outputs": [],
   "source": [
    "cp_mask.state_dict().keys()"
   ]
  },
  {
   "cell_type": "code",
   "execution_count": null,
   "metadata": {},
   "outputs": [],
   "source": [
    "model.fc1.weight.register_hook(lambda grad: grad * cp_mask[0])\n",
    "model.fc2.weight.register_hook(lambda grad: grad * cp_mask[1])\n",
    "model.fc3.weight.register_hook(lambda grad: grad * cp_mask[2])"
   ]
  },
  {
   "cell_type": "code",
   "execution_count": null,
   "metadata": {},
   "outputs": [],
   "source": [
    "a"
   ]
  },
  {
   "cell_type": "code",
   "execution_count": null,
   "metadata": {},
   "outputs": [],
   "source": []
  },
  {
   "cell_type": "code",
   "execution_count": null,
   "metadata": {},
   "outputs": [],
   "source": [
    "w0 = model.fc3.weight.detach().clone()"
   ]
  },
  {
   "cell_type": "code",
   "execution_count": null,
   "metadata": {},
   "outputs": [],
   "source": [
    "w0"
   ]
  },
  {
   "cell_type": "code",
   "execution_count": null,
   "metadata": {},
   "outputs": [],
   "source": [
    "optimizer = optim.Adam(model.parameters(), lr = param.lr, weight_decay = param.weight_decay)"
   ]
  },
  {
   "cell_type": "code",
   "execution_count": null,
   "metadata": {},
   "outputs": [],
   "source": [
    "print(cp_mask)"
   ]
  },
  {
   "cell_type": "code",
   "execution_count": null,
   "metadata": {},
   "outputs": [],
   "source": [
    "model.fc2.weight"
   ]
  },
  {
   "cell_type": "code",
   "execution_count": null,
   "metadata": {},
   "outputs": [],
   "source": [
    "for name, p in model.named_parameters():\n",
    "    if name =='fc2.weight':\n",
    "        print(p)"
   ]
  },
  {
   "cell_type": "code",
   "execution_count": null,
   "metadata": {},
   "outputs": [],
   "source": [
    "j = 0\n",
    "for name, p in model.named_parameters():\n",
    "    if 'weight' in name:\n",
    "        print(j)\n",
    "        #p.register_hook(lambda grad: grad.mul_(cp_mask[j]))\n",
    "        #print(name)\n",
    "        #print(p[0], cp_mask[j][0])\n",
    "        print(cp_mask[j])\n",
    "        j += 1"
   ]
  },
  {
   "cell_type": "code",
   "execution_count": null,
   "metadata": {},
   "outputs": [],
   "source": [
    "for i in range(param.noi):\n",
    "    best_accu.append(0)\n",
    "    best_accu[i] = [0, 0, 0]\n",
    "    cp_mask = []\n",
    "\n",
    "    # pruning 및 mask 복사\n",
    "    # layer별 prune rate를 입력\n",
    "    cp_mask = weight_init(model, model_init, \n",
    "                           (1 - ((1-param.prune_per_c) ** i)),\n",
    "                           (1 - ((1-param.prune_per_f) ** i)),\n",
    "                           (1 - ((1-param.prune_per_o) ** i))\n",
    "                          )\n",
    "    #model2[0].weight.register_hook(lambda grad: grad * gradient_mask)\n",
    "    j = 0\n",
    "    for name, p in model.named_parameters():\n",
    "        if 'weight' in name:\n",
    "            p.register_hook(lambda grad: grad.mul_(cp_mask[j]))\n",
    "            print(name)\n",
    "            print(p[0], cp_mask[j][0])\n",
    "            j += 1\n",
    "    \n",
    "    \n",
    "    optimizer = optim.Adam(model.parameters(), lr = param.lr, weight_decay = param.weight_decay)\n",
    "    print(\"Learning start!\\n\")\n",
    "    # weight 개수 계산 및 저장\n",
    "    \n",
    "    #iteration 횟수 = i\n",
    "    \n",
    "    weight_counts = weight_counter(model)\n",
    "    \n",
    "    #print(model.conv1.weight[0])\n",
    "    #print(model.fc3.weight[0])\n",
    "    \n",
    "    \n",
    "    remaining_weight = weight_counts['all.weight'][3]\n",
    "    \n",
    "    start_time = timeit.default_timer()\n",
    "    \n",
    "    for epoch in tqdm(range(param.epochs)):\n",
    "        # epoch가 0일때 정확도 계산\n",
    "        if epoch == 0:\n",
    "            accuracy, test_loss = test(model, param.test_loader, criterion)\n",
    "            visdom_plot(vis_plt,torch.Tensor([accuracy]), torch.Tensor([0]),\n",
    "                        str(remaining_weight)\n",
    "                       )\n",
    "            print('[epoch : %d]' % (epoch),\n",
    "             '(r_loss: x.xxxxx)',\n",
    "             '(t_loss: x.xxxxx)',\n",
    "             '(accu: %.4f)' % (accuracy)\n",
    "             )\n",
    "        # model training    \n",
    "        running_loss = train(model, param.train_loader, optimizer, criterion, cp_mask)\n",
    "        \n",
    "        # val_set이 있을 경우 val_set을 통해 loss, accu를 구한다.\n",
    "        if param.valset == 'empty':\n",
    "            accuracy, test_loss = test(model, param.test_loader, criterion)\n",
    "        else:\n",
    "            accuracy, test_loss = test(model, param.val_loader, criterion)\n",
    "        \n",
    "        # visdom plot\n",
    "        visdom_plot(vis_plt, torch.Tensor([accuracy]), torch.Tensor([(epoch+1) * 1000]),\n",
    "                    str(remaining_weight)\n",
    "                   )\n",
    "        \n",
    "        # best accuracy list (weight_remain, epoch, accuracy)\n",
    "        if best_accu[i][2] <= accuracy:\n",
    "            best_accu[i] = [remaining_weight, epoch, accuracy]\n",
    "        \n",
    "        print('[epoch : %d]' % (epoch+1),\n",
    "             '(r_loss: %.5f)' % (running_loss),\n",
    "             '(t_loss: %.5f)' % (test_loss),\n",
    "             '(accu: %.4f)' % (accuracy)\n",
    "             )\n",
    "    stop_time = timeit.default_timer()\n",
    "    #print(model.fc3.weight[0][0])\n",
    "    #print(model_init.fc3.weight[0][0])\n",
    "    \n",
    "    #print(model.fc3.weight[0])\n",
    "    \n",
    "    #print(model.conv1.weight[0])\n",
    "    #print(model.fc3.weight[0])\n",
    "    \n",
    "    print(\"Finish!\",\n",
    "          \"(Best accu: %.4f)\" % best_accu[i][2],\n",
    "          \"(Time taken(sec) : %.2f)\" % (stop_time - start_time),\n",
    "          \"\\n\\n\\n\\n\\n\\n\\n\")"
   ]
  },
  {
   "cell_type": "code",
   "execution_count": null,
   "metadata": {},
   "outputs": [],
   "source": [
    "print(model.conv1.weight[0][0])"
   ]
  },
  {
   "cell_type": "code",
   "execution_count": null,
   "metadata": {},
   "outputs": [],
   "source": []
  },
  {
   "cell_type": "code",
   "execution_count": null,
   "metadata": {},
   "outputs": [],
   "source": [
    "model2.state_dict().keys()"
   ]
  },
  {
   "cell_type": "code",
   "execution_count": null,
   "metadata": {},
   "outputs": [],
   "source": [
    "print(model2[0].weight.grad)"
   ]
  },
  {
   "cell_type": "code",
   "execution_count": null,
   "metadata": {},
   "outputs": [],
   "source": [
    " for name, p in model2.named_modules():\n",
    "        print(p)"
   ]
  },
  {
   "cell_type": "code",
   "execution_count": null,
   "metadata": {},
   "outputs": [],
   "source": [
    "if x > 0:\n",
    "\tvalue = 10\n",
    "else:\n",
    "\tvalue = 20\n",
    "\n",
    "value = 10 if x > 0 else 20"
   ]
  },
  {
   "cell_type": "code",
   "execution_count": null,
   "metadata": {},
   "outputs": [],
   "source": [
    "model = nn.Sequential(\n",
    "    nn.Linear(2, 2),\n",
    "    nn.Sigmoid(),\n",
    "    nn.Linear(2, 2)\n",
    ")\n",
    "print(model[0].weight)\n",
    "# Create Gradient mask\n",
    "gradient_mask = torch.zeros(2, 2)\n",
    "gradient_mask[0, 0] = 1.0\n",
    "model[0].weight.register_hook(lambda grad: grad.mul_(gradient_mask))\n",
    "\n",
    "optimizer = optim.SGD(model.parameters(), lr=1.0)\n",
    "criterion = nn.CrossEntropyLoss()\n",
    "\n",
    "batch_size = 10\n",
    "x = torch.randn(batch_size, 2)\n",
    "target = torch.randint(0, 2, (batch_size,))\n",
    "\n",
    "# Get weight before training\n",
    "w0 = model[0].weight.detach().clone()\n",
    "\n",
    "# Single training iteration\n",
    "optimizer.zero_grad()\n",
    "output = model(x)\n",
    "loss = criterion(output, target)\n",
    "loss.backward()\n",
    "print('Gradient: ', model[0].weight.grad)\n",
    "optimizer.step()"
   ]
  },
  {
   "cell_type": "code",
   "execution_count": null,
   "metadata": {},
   "outputs": [],
   "source": [
    "print(model[0].weight)\n",
    "# Create Gradient mask\n",
    "gradient_mask = torch.zeros(2, 2)\n",
    "gradient_mask[0, 0] = 1.0\n",
    "model[0].weight.register_hook(lambda grad: grad.mul_(gradient_mask))\n",
    "\n",
    "optimizer = optim.SGD(model.parameters(), lr=1.0)\n",
    "criterion = nn.CrossEntropyLoss()\n",
    "\n",
    "batch_size = 10\n",
    "x = torch.randn(batch_size, 2)\n",
    "target = torch.randint(0, 2, (batch_size,))\n",
    "\n",
    "# Get weight before training\n",
    "w0 = model[0].weight.detach().clone()\n",
    "\n",
    "# Single training iteration\n",
    "optimizer.zero_grad()\n",
    "output = model(x)\n",
    "loss = criterion(output, target)\n",
    "loss.backward()\n",
    "print('Gradient: ', model[0].weight.grad)\n",
    "optimizer.step()"
   ]
  },
  {
   "cell_type": "code",
   "execution_count": null,
   "metadata": {},
   "outputs": [],
   "source": [
    "criterion = nn.CrossEntropyLoss()\n",
    "model2 = nn.Sequential(\n",
    "    nn.Linear(2, 2),\n",
    "    nn.Sigmoid(),\n",
    "    nn.Linear(2, 2)\n",
    ")\n",
    "print(model2[0].weight)"
   ]
  },
  {
   "cell_type": "code",
   "execution_count": null,
   "metadata": {},
   "outputs": [],
   "source": [
    "# Create Gradient mask\n",
    "gradient_mask = torch.zeros(2, 2)\n",
    "gradient_mask[0, 0] = 1.0\n",
    "model2[0].weight.register_hook(lambda grad: grad.mul_(gradient_mask))\n",
    "#model2[0].weight.register_hook(lambda grad: grad * gradient_mask)\n",
    "print(model2[0].weight)\n",
    "print(gradient_mask)"
   ]
  },
  {
   "cell_type": "code",
   "execution_count": null,
   "metadata": {},
   "outputs": [],
   "source": [
    "optimizer = optim.SGD(model2.parameters(), lr=1.0, weight_decay = 0.003)"
   ]
  },
  {
   "cell_type": "code",
   "execution_count": null,
   "metadata": {},
   "outputs": [],
   "source": [
    "print(target)"
   ]
  },
  {
   "cell_type": "code",
   "execution_count": null,
   "metadata": {},
   "outputs": [],
   "source": [
    "batch_size = 10\n",
    "x = torch.randn(batch_size, 2)\n",
    "target = torch.randint(0, 2, (batch_size,))\n",
    "\n",
    "optimizer.zero_grad()\n",
    "output = model2(x)\n",
    "loss = criterion(output, target)\n",
    "loss.backward()\n",
    "optimizer.step()"
   ]
  },
  {
   "cell_type": "code",
   "execution_count": null,
   "metadata": {},
   "outputs": [],
   "source": [
    "print('Gradient: ', model2[0].weight, model2[2].weight)"
   ]
  },
  {
   "cell_type": "code",
   "execution_count": null,
   "metadata": {},
   "outputs": [],
   "source": [
    "# Get weight before training\n",
    "#w0 = model2[0].weight.detach().clone()\n",
    "\n",
    "# Single training iteration\n",
    "optimizer.step()\n",
    "\n",
    "# Compare weight update\n",
    "w1 = model2[0].weight.detach().clone()\n",
    "print('Weights updated ', w0!=w1)"
   ]
  },
  {
   "cell_type": "code",
   "execution_count": null,
   "metadata": {},
   "outputs": [],
   "source": [
    "print(model2[0].weight[:,:])"
   ]
  },
  {
   "cell_type": "code",
   "execution_count": null,
   "metadata": {},
   "outputs": [],
   "source": [
    "print(model2[0].weight[0:1,0:1])"
   ]
  },
  {
   "cell_type": "code",
   "execution_count": null,
   "metadata": {},
   "outputs": [],
   "source": [
    "model2[0].weight[0:1,0:1].requires_grad.zero_()"
   ]
  },
  {
   "cell_type": "code",
   "execution_count": null,
   "metadata": {},
   "outputs": [],
   "source": [
    "for name, param in model2.named_parameters():\n",
    "    if 'weight' in name:\n",
    "        param.data[0:1, 0:1].zero_()\n",
    "        param.data[0:1, 0:1].requires_grad = False\n",
    "        print(param.data)"
   ]
  },
  {
   "cell_type": "code",
   "execution_count": null,
   "metadata": {},
   "outputs": [],
   "source": [
    "optimizer = optim.SGD(filter(lambda p: p.requires_grad, model2.parameters()), lr=0.001, momentum=0.9)"
   ]
  },
  {
   "cell_type": "code",
   "execution_count": null,
   "metadata": {},
   "outputs": [],
   "source": [
    "print(“Freezing Parameters(1->10) on the Convolution Layer”,child)\n",
    "for param in child.parameters():\n",
    "param.data[:,1:10,:,:].zero_()\n",
    "param.data[:,1:10,:,:].requires_grad = False\n",
    "\n",
    "optimizer_ft = OPTIM.SGD(filter(lambda p: p.requires_grad, model_ft.parameters()), lr=0.001, momentum=0.9)"
   ]
  }
 ],
 "metadata": {
  "kernelspec": {
   "display_name": "Python 3",
   "language": "python",
   "name": "python3"
  },
  "language_info": {
   "codemirror_mode": {
    "name": "ipython",
    "version": 3
   },
   "file_extension": ".py",
   "mimetype": "text/x-python",
   "name": "python",
   "nbconvert_exporter": "python",
   "pygments_lexer": "ipython3",
   "version": "3.7.6"
  }
 },
 "nbformat": 4,
 "nbformat_minor": 4
}
