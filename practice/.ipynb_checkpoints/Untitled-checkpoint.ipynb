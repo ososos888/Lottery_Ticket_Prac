{
 "cells": [
  {
   "cell_type": "code",
   "execution_count": 1,
   "metadata": {},
   "outputs": [],
   "source": [
    "import torch\n",
    "import torch.nn as nn\n",
    "import torch.optim as optim\n",
    "import torch.nn.init as init\n",
    "import torchvision\n",
    "import torchvision.datasets as dsets\n",
    "import torchvision.transforms as transforms\n",
    "import timeit\n",
    "import subprocess\n",
    "import sys"
   ]
  },
  {
   "cell_type": "code",
   "execution_count": 2,
   "metadata": {},
   "outputs": [],
   "source": [
    "# 동일 random 조건을 위한 seed 생성\n",
    "torch.manual_seed(777)\n",
    "torch.cuda.manual_seed_all(777)"
   ]
  },
  {
   "cell_type": "code",
   "execution_count": 3,
   "metadata": {},
   "outputs": [
    {
     "name": "stdout",
     "output_type": "stream",
     "text": [
      "Available devices  2\n",
      "Current cuda device  1\n",
      "GeForce RTX 2080 Ti\n",
      "cpu와 cuda 중 다음 기기로 학습함: cuda:1 \n",
      "\n"
     ]
    }
   ],
   "source": [
    "# CUDA를 통한 GPU 사용 설정\n",
    "GPU_NUM = 1 # 사용 할 GPU Num 설정\n",
    "device = torch.device(f'cuda:{GPU_NUM}' if torch.cuda.is_available() else 'cpu')\n",
    "torch.cuda.set_device(device)\n",
    "\n",
    "print ('Available devices ', torch.cuda.device_count())\n",
    "print ('Current cuda device ', torch.cuda.current_device())\n",
    "print(torch.cuda.get_device_name(device))\n",
    "\n",
    "print(\"cpu와 cuda 중 다음 기기로 학습함:\", device, '\\n')"
   ]
  },
  {
   "cell_type": "code",
   "execution_count": 4,
   "metadata": {},
   "outputs": [],
   "source": [
    "# Hyper parameter 설정\n",
    "lr = 0.001\n",
    "epochs = 20\n",
    "batch_size = 128"
   ]
  },
  {
   "cell_type": "code",
   "execution_count": 5,
   "metadata": {},
   "outputs": [],
   "source": [
    "# Data 전처리\n",
    "transform = transforms.Compose([transforms.ToTensor(),\n",
    "                              transforms.Normalize((0.5, 0.5, 0.5), (0.5, 0.5, 0.5))]\n",
    "                             )\n",
    "\n",
    "# Test sets & loader\n",
    "trainsets = dsets.CIFAR10('../CIFAR10/',\n",
    "                         train=True,\n",
    "                         transform=transform,\n",
    "                         download=False)\n",
    "\n",
    "train_loader = torch.utils.data.DataLoader(dataset = trainsets,\n",
    "                                          batch_size = batch_size,\n",
    "                                          shuffle = True,\n",
    "                                          drop_last = True)\n",
    "\n",
    "# Train sets & loader\n",
    "testsets = dsets.CIFAR10('../CIFAR10/',\n",
    "                        train=False,\n",
    "                        transform=transform,\n",
    "                        download=False)\n",
    "\n",
    "test_loader = torch.utils.data.DataLoader(dataset = testsets,\n",
    "                                          batch_size = 4,\n",
    "                                         shuffle = False,\n",
    "                                         drop_last = True)\n",
    "\n",
    "classes = ('plane', 'car', 'bird', 'cat', 'deer', 'dog',\n",
    "           'frog', 'horse', 'ship', 'truck')"
   ]
  },
  {
   "cell_type": "code",
   "execution_count": 6,
   "metadata": {},
   "outputs": [],
   "source": [
    "class CNN(nn.Module):\n",
    "    \n",
    "    def __init__(self):\n",
    "        super(CNN, self).__init__()\n",
    "        \n",
    "        # 32x32 start\n",
    "        self.convlayer = nn.Sequential(\n",
    "            nn.Conv2d(3, 16, kernel_size = 3, stride = 1, padding = 1),\n",
    "            nn.ReLU(),\n",
    "            nn.Conv2d(16, 16, kernel_size = 3, stride = 1, padding = 1),\n",
    "            nn.ReLU(),\n",
    "            nn.MaxPool2d(2, 2),\n",
    "            \n",
    "            nn.Conv2d(16, 32, kernel_size = 3, stride = 1, padding = 1),\n",
    "            nn.ReLU(),\n",
    "            nn.Conv2d(32, 32, kernel_size = 3, stride = 1, padding = 1),\n",
    "            nn.ReLU(),\n",
    "            nn.MaxPool2d(2, 2),\n",
    "            \n",
    "        )\n",
    "            \n",
    "        self.fclayer = nn.Sequential(\n",
    "            nn.Linear(8 * 8 * 32, 625, bias = True),\n",
    "            nn.ReLU(),\n",
    "            nn.Linear(625, 256, bias = True),\n",
    "            nn.ReLU(),\n",
    "            nn.Linear(256, 10, bias = True)\n",
    "        )\n",
    "        \n",
    "    def forward(self, x):\n",
    "        out = self.convlayer(x)\n",
    "        out = out.view(out.size(0), -1)\n",
    "        out = self.fclayer(out)\n",
    "        return out"
   ]
  },
  {
   "cell_type": "code",
   "execution_count": 7,
   "metadata": {},
   "outputs": [
    {
     "data": {
      "text/plain": [
       "CNN(\n",
       "  (convlayer): Sequential(\n",
       "    (0): Conv2d(3, 16, kernel_size=(3, 3), stride=(1, 1), padding=(1, 1))\n",
       "    (1): ReLU()\n",
       "    (2): Conv2d(16, 16, kernel_size=(3, 3), stride=(1, 1), padding=(1, 1))\n",
       "    (3): ReLU()\n",
       "    (4): MaxPool2d(kernel_size=2, stride=2, padding=0, dilation=1, ceil_mode=False)\n",
       "    (5): Conv2d(16, 32, kernel_size=(3, 3), stride=(1, 1), padding=(1, 1))\n",
       "    (6): ReLU()\n",
       "    (7): Conv2d(32, 32, kernel_size=(3, 3), stride=(1, 1), padding=(1, 1))\n",
       "    (8): ReLU()\n",
       "    (9): MaxPool2d(kernel_size=2, stride=2, padding=0, dilation=1, ceil_mode=False)\n",
       "  )\n",
       "  (fclayer): Sequential(\n",
       "    (0): Linear(in_features=2048, out_features=625, bias=True)\n",
       "    (1): ReLU()\n",
       "    (2): Linear(in_features=625, out_features=256, bias=True)\n",
       "    (3): ReLU()\n",
       "    (4): Linear(in_features=256, out_features=10, bias=True)\n",
       "  )\n",
       ")"
      ]
     },
     "execution_count": 7,
     "metadata": {},
     "output_type": "execute_result"
    }
   ],
   "source": [
    "model = CNN().to(device)\n",
    "model"
   ]
  },
  {
   "cell_type": "code",
   "execution_count": 8,
   "metadata": {},
   "outputs": [],
   "source": [
    "criterion = nn.CrossEntropyLoss().to(device)\n",
    "optimizer = optim.Adam(model.parameters(), lr = lr)"
   ]
  },
  {
   "cell_type": "code",
   "execution_count": 9,
   "metadata": {},
   "outputs": [
    {
     "name": "stdout",
     "output_type": "stream",
     "text": [
      "Learning Start!\n",
      "[epoch : 1]  loss: 1.59396315\n",
      "[epoch : 2]  loss: 1.14084339\n",
      "[epoch : 3]  loss: 0.92770576\n",
      "[epoch : 4]  loss: 0.78731668\n",
      "[epoch : 5]  loss: 0.66513389\n",
      "[epoch : 6]  loss: 0.55529910\n",
      "[epoch : 7]  loss: 0.43933609\n",
      "[epoch : 8]  loss: 0.32662287\n",
      "[epoch : 9]  loss: 0.23593348\n",
      "[epoch : 10]  loss: 0.16662137\n",
      "[epoch : 11]  loss: 0.12561034\n",
      "[epoch : 12]  loss: 0.09970988\n",
      "[epoch : 13]  loss: 0.08990642\n",
      "[epoch : 14]  loss: 0.07549114\n",
      "[epoch : 15]  loss: 0.07462694\n",
      "[epoch : 16]  loss: 0.05596881\n",
      "[epoch : 17]  loss: 0.05927730\n",
      "[epoch : 18]  loss: 0.05534229\n",
      "[epoch : 19]  loss: 0.05729502\n",
      "[epoch : 20]  loss: 0.04655392\n",
      "Finished Training\n"
     ]
    }
   ],
   "source": [
    "# Training\n",
    "total_batch = len(train_loader)\n",
    "print('Learning Start!')\n",
    "\n",
    "for epoch in range(epochs):\n",
    "    \n",
    "    avg_cost = 0.0\n",
    "    \n",
    "    for i, data in enumerate(train_loader, 0):\n",
    "        \n",
    "        inputs, labels = data\n",
    "        inputs = inputs.to(device)\n",
    "        labels = labels.to(device)\n",
    "        \n",
    "        optimizer.zero_grad()\n",
    "        \n",
    "        outputs = model(inputs)\n",
    "        cost = criterion(outputs, labels)\n",
    "        cost.backward()\n",
    "        optimizer.step()\n",
    "        \n",
    "        # 통계 출력\n",
    "        avg_cost += cost / total_batch\n",
    "    print('[epoch : %d]  loss: %.8f' % (epoch + 1, avg_cost))\n",
    "\n",
    "print('Finished Training')\n",
    "        "
   ]
  },
  {
   "cell_type": "code",
   "execution_count": 10,
   "metadata": {},
   "outputs": [
    {
     "name": "stdout",
     "output_type": "stream",
     "text": [
      "Accuracy of the network on the 10000 test images: 70.79 %\n"
     ]
    }
   ],
   "source": [
    "# 총 결과\n",
    "correct = 0\n",
    "total = 0\n",
    "\n",
    "with torch.no_grad():\n",
    "    for data in test_loader:\n",
    "        images, labels = data\n",
    "        outputs = model(images.to(device))\n",
    "        # torch.max = 주어진 텐서의 list 중 최대 값이 들어있는 index 리턴\n",
    "        # _ = 이전에 선언한 변수를 의미 -> outputs\n",
    "        _, predicted = torch.max(outputs.data, 1) \n",
    "        total += labels.size(0)\n",
    "        correct += (predicted == labels.to(device)).sum().item()\n",
    "    \n",
    "print('Accuracy of the network on the 10000 test images: %.2f %%' % (\n",
    "    100 * correct / total))\n"
   ]
  },
  {
   "cell_type": "code",
   "execution_count": 11,
   "metadata": {},
   "outputs": [
    {
     "name": "stdout",
     "output_type": "stream",
     "text": [
      "Accuracy of plane : 75.00 %\n",
      "Accuracy of   car : 90.60 %\n",
      "Accuracy of  bird : 65.10 %\n",
      "Accuracy of   cat : 49.60 %\n",
      "Accuracy of  deer : 62.90 %\n",
      "Accuracy of   dog : 64.10 %\n",
      "Accuracy of  frog : 74.40 %\n",
      "Accuracy of horse : 71.00 %\n",
      "Accuracy of  ship : 82.20 %\n",
      "Accuracy of truck : 73.00 %\n"
     ]
    }
   ],
   "source": [
    "# Label별 결과\n",
    "# 10개의 label이므로 길이 10의 list 생성\n",
    "class_correct = list(0. for i in range(10))\n",
    "class_total = list(0. for i in range(10))\n",
    "\n",
    "with torch.no_grad():\n",
    "    for data in test_loader:\n",
    "        images, labels = data\n",
    "        outputs = model(images.to(device))\n",
    "        outputs, predicted = torch.max(outputs, 1)\n",
    "        c = (predicted == labels.to(device)).squeeze()\n",
    "        # 여기서 range는 test_loader의 batch size를 말한다.\n",
    "        for i in range(4):\n",
    "            label = labels[i]\n",
    "            class_correct[label.to(device)] += c[i].item()\n",
    "            class_total[label.to(device)] += 1\n",
    "\n",
    "for i in range(10):\n",
    "    print('Accuracy of %5s : %.2f %%' % (\n",
    "        classes[i], 100 * class_correct[i] / class_total[i]))"
   ]
  },
  {
   "cell_type": "code",
   "execution_count": null,
   "metadata": {},
   "outputs": [],
   "source": []
  }
 ],
 "metadata": {
  "kernelspec": {
   "display_name": "Python 3",
   "language": "python",
   "name": "python3"
  },
  "language_info": {
   "codemirror_mode": {
    "name": "ipython",
    "version": 3
   },
   "file_extension": ".py",
   "mimetype": "text/x-python",
   "name": "python",
   "nbconvert_exporter": "python",
   "pygments_lexer": "ipython3",
   "version": "3.7.6"
  }
 },
 "nbformat": 4,
 "nbformat_minor": 4
}
