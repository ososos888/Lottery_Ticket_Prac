{
 "cells": [
  {
   "cell_type": "code",
   "execution_count": 23,
   "metadata": {},
   "outputs": [],
   "source": [
    "import torch\n",
    "import visdom"
   ]
  },
  {
   "cell_type": "code",
   "execution_count": 24,
   "metadata": {},
   "outputs": [],
   "source": [
    "# file name\n",
    "fname = \"Lenet300test2\""
   ]
  },
  {
   "cell_type": "code",
   "execution_count": 59,
   "metadata": {},
   "outputs": [
    {
     "name": "stderr",
     "output_type": "stream",
     "text": [
      "Setting up a new session...\n"
     ]
    }
   ],
   "source": [
    "# visdom setting\n",
    "vis = visdom.Visdom()\n",
    "vis.close(env=\"main\")\n",
    "\n",
    "Tracker_type = \"Accuracy_Tracker\"\n",
    "title = fname + \"_\" + Tracker_type\n",
    "\n",
    "# make plot\n",
    "vis_plt = vis.line(X=torch.Tensor(1).zero_(), Y=torch.Tensor(1).zero_(), \n",
    "                    opts=dict(title = title,\n",
    "                              legend=['100.0'],\n",
    "                              showlegend=True,\n",
    "                              xtickmin = 0,\n",
    "                              xtickmax = 20000,\n",
    "                              ytickmin = 0.94,\n",
    "                              ytickmax = 0.99\n",
    "                             )\n",
    "                   )"
   ]
  },
  {
   "cell_type": "code",
   "execution_count": 51,
   "metadata": {},
   "outputs": [],
   "source": [
    "def visdom_plot(loss_plot, num, loss_value, name):\n",
    "    vis.line(X = num,\n",
    "            Y = loss_value,\n",
    "            win = loss_plot,\n",
    "            name = str(name),\n",
    "            update = 'append'\n",
    "            )\n",
    "\n",
    "def result_plot():\n",
    "    x = []\n",
    "    for i in range(epochs):\n",
    "        x.append(i*1000)\n",
    "\n",
    "    for name in test_result_['Average of trials']:\n",
    "        visdom_plot(vis_plt, torch.Tensor(x), torch.Tensor(test_result_['Average of trials'][name][2]),\n",
    "                            name)"
   ]
  },
  {
   "cell_type": "code",
   "execution_count": 26,
   "metadata": {},
   "outputs": [],
   "source": [
    "dic_FileName = \"test_result/\" + fname + \"_result_data\"\n",
    "dic_FileName2 = \"test_result/\" + fname + \"_trained_weights\"\n",
    "\n",
    "test_result_ = torch.load(dic_FileName)\n",
    "trained_weights_ = torch.load(dic_FileName2)\n",
    "epochs = len(test_result_['Average of trials'][100][0])"
   ]
  },
  {
   "cell_type": "code",
   "execution_count": 60,
   "metadata": {},
   "outputs": [],
   "source": [
    "result_plot()"
   ]
  }
 ],
 "metadata": {
  "kernelspec": {
   "display_name": "Python 3",
   "language": "python",
   "name": "python3"
  },
  "language_info": {
   "codemirror_mode": {
    "name": "ipython",
    "version": 3
   },
   "file_extension": ".py",
   "mimetype": "text/x-python",
   "name": "python",
   "nbconvert_exporter": "python",
   "pygments_lexer": "ipython3",
   "version": "3.7.6"
  }
 },
 "nbformat": 4,
 "nbformat_minor": 4
}
