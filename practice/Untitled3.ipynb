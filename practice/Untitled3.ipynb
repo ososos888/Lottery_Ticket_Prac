{
 "cells": [
  {
   "cell_type": "code",
   "execution_count": 1,
   "metadata": {},
   "outputs": [],
   "source": [
    "import torch\n",
    "import torch.nn as nn\n",
    "import torch.optim as optim\n",
    "import torchvision.datasets as dsets\n",
    "import torchvision.transforms as transforms\n",
    "import torch.nn.init as init\n",
    "import torch.nn.functional as F\n",
    "import visdom\n",
    "import copy\n",
    "import torch.nn.utils.prune as prune\n",
    "from tqdm.notebook import tqdm\n",
    "import numpy as np\n",
    "import timeit\n",
    "import sys\n",
    "from torch.utils.data.sampler import SubsetRandomSampler"
   ]
  },
  {
   "cell_type": "code",
   "execution_count": 2,
   "metadata": {},
   "outputs": [],
   "source": [
    "torch.manual_seed(55)\n",
    "torch.cuda.manual_seed_all(55)\n",
    "torch.backends.cudnn.enabled = False"
   ]
  },
  {
   "cell_type": "code",
   "execution_count": 3,
   "metadata": {},
   "outputs": [
    {
     "name": "stdout",
     "output_type": "stream",
     "text": [
      "Available devices : 2\n",
      "Current cuda device : 1 (GeForce RTX 2080 Ti))\n",
      "cpu와 cuda 중 다음 기기로 학습함: cuda:1 \n",
      "\n"
     ]
    }
   ],
   "source": [
    "# cuda setting. GPU_NUM = 사용할 GPU의 번호\n",
    "GPU_NUM = 1\n",
    "device = torch.device(f'cuda:{GPU_NUM}' if torch.cuda.is_available() else 'cpu')\n",
    "torch.cuda.set_device(device)\n",
    "print ('Available devices :', torch.cuda.device_count())\n",
    "print ('Current cuda device : %d (%s))' % (torch.cuda.current_device(), torch.cuda.get_device_name(device)))\n",
    "print(\"cpu와 cuda 중 다음 기기로 학습함:\", device, '\\n')"
   ]
  },
  {
   "cell_type": "code",
   "execution_count": 4,
   "metadata": {},
   "outputs": [],
   "source": [
    "# Lenet 300 100 10\n",
    "lr = 0.0012\n",
    "epochs = 3\n",
    "batch_size = 60\n",
    "weight_decay = 1.2e-3\n",
    "test_iter= 1\n",
    "prune_per_c = 1\n",
    "prune_per_f = 0.2\n",
    "prune_per_o = 0.1\n",
    "prune_iters = 1\n",
    "\n",
    "# dataset\n",
    "transform = transforms.Compose([\n",
    "    transforms.ToTensor(), transforms.Normalize((0.1307,), (0.3081,))\n",
    "])\n",
    "\n",
    "trainset = dsets.MNIST(root='../MNIST_data/',\n",
    "                         train=True,\n",
    "                         transform = transform,\n",
    "                         download=True)\n",
    "testset = dsets.MNIST(root='../MNIST_data/',\n",
    "                        train=False,\n",
    "                        transform = transform,\n",
    "                        download=True)\n",
    "valset = dsets.MNIST('../MNIST_data/',\n",
    "                         train=True,\n",
    "                         transform = transform,\n",
    "                         download=True)\n",
    "\n",
    "# validation set 분류\n",
    "validation_ratio = (1/12)\n",
    "num_train = len(trainset)\n",
    "indices = list(range(num_train))\n",
    "# 설정한 비율만큼 분할 시의 data 갯수\n",
    "split = int(np.floor(validation_ratio * num_train))\n",
    "# shuffle\n",
    "np.random.shuffle(indices)\n",
    "# data 분할\n",
    "train_idx, val_idx = indices[split:], indices[:split]\n",
    "train_sampler = SubsetRandomSampler(train_idx)\n",
    "val_sampler = SubsetRandomSampler(val_idx)\n",
    "\n",
    "train_loader = torch.utils.data.DataLoader(dataset = trainset,\n",
    "                                          batch_size = batch_size,\n",
    "                                          sampler = train_sampler,\n",
    "                                          drop_last = True)\n",
    "\n",
    "val_loader = torch.utils.data.DataLoader(dataset = valset,\n",
    "                                          batch_size = batch_size,\n",
    "                                          sampler = val_sampler,\n",
    "                                          drop_last = True)\n",
    "\n",
    "test_loader = torch.utils.data.DataLoader(dataset = testset,\n",
    "                                          shuffle = False,\n",
    "                                          drop_last = True)\n",
    "class Lenet300(nn.Module):\n",
    "    def __init__(self):\n",
    "        super(Lenet300, self).__init__()\n",
    "        \n",
    "        self.fc1 = nn.Linear(28*28, 300, bias = True)\n",
    "        self.fc2 = nn.Linear(300, 100, bias = True)\n",
    "        self.fcout = nn.Linear(100, 10, bias = True)\n",
    "        \n",
    "        init.xavier_normal_(self.fc1.weight)\n",
    "        init.xavier_normal_(self.fc2.weight)\n",
    "        init.xavier_normal_(self.fcout.weight)\n",
    "        init.normal_(self.fc1.bias)\n",
    "        init.normal_(self.fc2.bias)\n",
    "        init.normal_(self.fcout.bias)\n",
    "        \n",
    "    def forward(self, x):\n",
    "        x = x.view(x.size(0), -1)\n",
    "        x = F.relu(self.fc1(x))\n",
    "        x = F.relu(self.fc2(x))\n",
    "        x = self.fcout(x)\n",
    "        return x\n",
    "\n",
    "model = Lenet300().to(device)\n",
    "model_init = copy.deepcopy(model)"
   ]
  },
  {
   "cell_type": "code",
   "execution_count": 5,
   "metadata": {},
   "outputs": [],
   "source": [
    "class Lenet300(nn.Module):\n",
    "    def __init__(self):\n",
    "        super(Lenet300, self).__init__()\n",
    "        \n",
    "        self.fc1 = nn.Linear(28*28, 300, bias = True)\n",
    "        self.fc2 = nn.Linear(300, 100, bias = True)\n",
    "        self.fcout = nn.Linear(100, 10, bias = True)\n",
    "        \n",
    "        init.xavier_normal_(self.fc1.weight)\n",
    "        init.xavier_normal_(self.fc2.weight)\n",
    "        init.xavier_normal_(self.fcout.weight)\n",
    "        init.normal_(self.fc1.bias)\n",
    "        init.normal_(self.fc2.bias)\n",
    "        init.normal_(self.fcout.bias)\n",
    "        \n",
    "    def forward(self, x):\n",
    "        x = x.view(x.size(0), -1)\n",
    "        x = F.relu(self.fc1(x))\n",
    "        x = F.relu(self.fc2(x))\n",
    "        x = self.fcout(x)\n",
    "        return x\n",
    "\n",
    "model = Lenet300().to(device)\n",
    "model_init = copy.deepcopy(model)"
   ]
  },
  {
   "cell_type": "code",
   "execution_count": 9,
   "metadata": {},
   "outputs": [
    {
     "name": "stdout",
     "output_type": "stream",
     "text": [
      "fc1.bias fc1.bias\n",
      "fc1.weight_orig fc1.weight\n",
      "fc2.bias fc2.bias\n",
      "fc2.weight_orig fc2.weight\n",
      "fcout.bias fcout.bias\n",
      "fcout.weight_orig fcout.weight\n"
     ]
    }
   ],
   "source": [
    "for name, p in model.named_parameters():\n",
    "    if 'weight_orig' in name:\n",
    "        for name2, p2 in model_init.named_parameters():\n",
    "            if name[0:len(name) - 5] in name2:\n",
    "                print(name, name2)\n",
    "    if 'bias' in name:\n",
    "        for name2, p2 in model_init.named_parameters():\n",
    "            if name in name2:\n",
    "                print(name, name2)"
   ]
  },
  {
   "cell_type": "code",
   "execution_count": null,
   "metadata": {},
   "outputs": [],
   "source": []
  },
  {
   "cell_type": "code",
   "execution_count": null,
   "metadata": {},
   "outputs": [],
   "source": [
    "weight_counter(model)"
   ]
  },
  {
   "cell_type": "code",
   "execution_count": null,
   "metadata": {},
   "outputs": [],
   "source": [
    "for name, p in model.named_parameters():\n",
    "    print(name)\n",
    "     #   if 'weight' in name:\n",
    "   #         remain, pruned = (p != 0).sum().item(), (p == 0).sum().item()\n",
    "      #      print(name, remain+pruned, pruned)"
   ]
  },
  {
   "cell_type": "code",
   "execution_count": null,
   "metadata": {},
   "outputs": [],
   "source": [
    "for name, p in model.named_parameters():\n",
    "    print(name)\n",
    "        if 'weight' in name:\n",
    "            remain, pruned = (p != 0).sum().item(), (p == 0).sum().item()\n",
    "            print(name, remain+pruned, pruned)"
   ]
  },
  {
   "cell_type": "code",
   "execution_count": 12,
   "metadata": {},
   "outputs": [
    {
     "name": "stdout",
     "output_type": "stream",
     "text": [
      "odict_keys(['fc1.bias', 'fc1.weight_orig', 'fc1.weight_mask', 'fc2.bias', 'fc2.weight_orig', 'fc2.weight_mask', 'fcout.bias', 'fcout.weight_orig', 'fcout.weight_mask'])\n"
     ]
    }
   ],
   "source": [
    "print(model.state_dict().keys())"
   ]
  },
  {
   "cell_type": "code",
   "execution_count": null,
   "metadata": {},
   "outputs": [],
   "source": [
    "a = (model.fcout.weight != 0).sum().item() + (model.fcout.weight == 0).sum().item()\n",
    "b = (model.fcout.weight != 0).sum().item()\n",
    "#a = (model.fcout.weight_mask != 0).sum().item() + (model.fcout.weight_mask == 0).sum().item()\n",
    "\n",
    "print(a, b)\n",
    "\n",
    "#model.fcout.weight"
   ]
  },
  {
   "cell_type": "code",
   "execution_count": 13,
   "metadata": {},
   "outputs": [
    {
     "data": {
      "text/plain": [
       "tensor([ 0.2773, -0.0032, -0.1322, -0.0011, -0.1686,  0.0941,  0.3244, -0.0791,\n",
       "         0.0287, -0.0016, -0.0512, -0.0388, -0.0821,  0.1490,  0.1307, -0.2078,\n",
       "         0.1664, -0.0302,  0.0005,  0.3474], device='cuda:1',\n",
       "       grad_fn=<SliceBackward>)"
      ]
     },
     "execution_count": 13,
     "metadata": {},
     "output_type": "execute_result"
    }
   ],
   "source": [
    "model.fcout.weight[5][40:60]"
   ]
  },
  {
   "cell_type": "code",
   "execution_count": 8,
   "metadata": {},
   "outputs": [
    {
     "data": {
      "text/plain": [
       "Linear(in_features=100, out_features=10, bias=True)"
      ]
     },
     "execution_count": 8,
     "metadata": {},
     "output_type": "execute_result"
    }
   ],
   "source": [
    "module = model.fc1\n",
    "prune.ln_structured(module, name=\"weight\", amount=0.2, n=1, dim=1)\n",
    "module = model.fc2\n",
    "prune.ln_structured(module, name=\"weight\", amount=0.2, n=1, dim=1)\n",
    "module = model.fcout\n",
    "prune.ln_structured(module, name=\"weight\", amount=0.1, n=1, dim=1) "
   ]
  },
  {
   "cell_type": "code",
   "execution_count": 17,
   "metadata": {},
   "outputs": [
    {
     "data": {
      "text/plain": [
       "tensor([ 0.2773, -0.0032, -0.1322, -0.0011, -0.1686,  0.0941,  0.3244, -0.0791,\n",
       "         0.0287, -0.0016, -0.0512, -0.0388, -0.0821,  0.1490,  0.0000, -0.2078,\n",
       "         0.1664, -0.0000,  0.0005,  0.3474], device='cuda:1',\n",
       "       grad_fn=<SliceBackward>)"
      ]
     },
     "execution_count": 17,
     "metadata": {},
     "output_type": "execute_result"
    }
   ],
   "source": [
    "model.fcout.weight[5][40:60]"
   ]
  },
  {
   "cell_type": "code",
   "execution_count": 19,
   "metadata": {},
   "outputs": [
    {
     "data": {
      "text/plain": [
       "tensor([ 0.2773, -0.0032, -0.1322, -0.0011, -0.1686,  0.0941,  0.3244, -0.0791,\n",
       "         0.0287, -0.0016, -0.0512, -0.0388, -0.0821,  0.1490,  0.1307, -0.2078,\n",
       "         0.1664, -0.0302,  0.0005,  0.3474], device='cuda:1',\n",
       "       grad_fn=<SliceBackward>)"
      ]
     },
     "execution_count": 19,
     "metadata": {},
     "output_type": "execute_result"
    }
   ],
   "source": [
    "model.fcout.weight_orig[5][40:60]"
   ]
  },
  {
   "cell_type": "code",
   "execution_count": null,
   "metadata": {},
   "outputs": [],
   "source": [
    "module = model.fc1\n",
    "for hook in module._forward_pre_hooks.values():\n",
    "    if hook._tensor_name == \"weight\":  # select out the correct hook\n",
    "        break\n",
    "module = model.fc2\n",
    "for hook in module._forward_pre_hooks.values():\n",
    "    if hook._tensor_name == \"weight\":  # select out the correct hook\n",
    "        break\n",
    "module = model.fcout\n",
    "for hook in module._forward_pre_hooks.values():\n",
    "    if hook._tensor_name == \"weight\":  # select out the correct hook\n",
    "        break"
   ]
  },
  {
   "cell_type": "code",
   "execution_count": 24,
   "metadata": {},
   "outputs": [
    {
     "data": {
      "text/plain": [
       "Linear(in_features=100, out_features=10, bias=True)"
      ]
     },
     "execution_count": 24,
     "metadata": {},
     "output_type": "execute_result"
    }
   ],
   "source": [
    "module = model.fc1\n",
    "prune.remove(module, 'weight')\n",
    "module = model.fc2\n",
    "prune.remove(module, 'weight')\n",
    "module = model.fcout\n",
    "prune.remove(module, 'weight')\n"
   ]
  },
  {
   "cell_type": "code",
   "execution_count": null,
   "metadata": {},
   "outputs": [],
   "source": [
    "module = model.fcout\n",
    "prune.ln_structured(module, name=\"weight\", amount=0.1, n=1, dim=1)\n",
    "#for hook in module._forward_pre_hooks.values():\n",
    "    #if hook._tensor_name == \"weight\":  # select out the correct hook\n",
    "        #break\n",
    "\n",
    "a = copy.deepcopy(model.fcout.weight_mask)\n",
    "prune.remove(module, 'weight')\n",
    "\n",
    "\n",
    "for name, module in model.named_modules():\n",
    "        if 'fcout' in name:\n",
    "            print(name)\n",
    "            module.weight.register_hook(lambda grad, name=name : grad.mul_(a))\n",
    "\n"
   ]
  },
  {
   "cell_type": "code",
   "execution_count": 6,
   "metadata": {},
   "outputs": [
    {
     "name": "stdout",
     "output_type": "stream",
     "text": [
      "<torch.nn.utils.prune.LnStructured object at 0x7fbc0d2aef10>\n"
     ]
    },
    {
     "data": {
      "text/plain": [
       "Linear(in_features=100, out_features=10, bias=True)"
      ]
     },
     "execution_count": 6,
     "metadata": {},
     "output_type": "execute_result"
    }
   ],
   "source": [
    "module = model.fcout\n",
    "prune.ln_structured(module, name=\"weight\", amount=0.1, n=1, dim=1)\n",
    "for hook in module._forward_pre_hooks.values():\n",
    "    print(hook)\n",
    "    if hook._tensor_name == \"weight\":  # select out the correct hook\n",
    "        break\n",
    "prune.remove(module, 'weight')"
   ]
  },
  {
   "cell_type": "code",
   "execution_count": null,
   "metadata": {},
   "outputs": [],
   "source": [
    "print(model.fcout.weight_mask)"
   ]
  },
  {
   "cell_type": "code",
   "execution_count": null,
   "metadata": {},
   "outputs": [],
   "source": [
    "for name, module in model.named_modules():\n",
    "    print(name)"
   ]
  },
  {
   "cell_type": "code",
   "execution_count": null,
   "metadata": {},
   "outputs": [],
   "source": [
    "print(model.fcout.weight_mask)"
   ]
  },
  {
   "cell_type": "code",
   "execution_count": null,
   "metadata": {},
   "outputs": [],
   "source": [
    "# visdom setting\n",
    "vis = visdom.Visdom()\n",
    "vis.close(env=\"main\")\n",
    "\n",
    "Tracker_type = \"Accuracy_Tracker\"\n",
    "title = fname + \"_\" + Tracker_type\n",
    "\n",
    "# make plot\n",
    "vis_plt = vis.line(X=torch.Tensor(1).zero_(), Y=torch.Tensor(1).zero_(), \n",
    "                    opts=dict(title = title,\n",
    "                              legend=['100.0'],\n",
    "                              showlegend=True,\n",
    "                              xtickmin = 0,\n",
    "                              xtickmax = 50000,\n",
    "                              ytickmin = 0.94,\n",
    "                              ytickmax = 0.99\n",
    "                             )\n",
    "                   )\n",
    "\n",
    "\n",
    "# visdom append plot\n",
    "def visdom_plot(loss_plot, num, loss_value, name):\n",
    "    vis.line(X = num,\n",
    "            Y = loss_value,\n",
    "            win = loss_plot,\n",
    "            name = str(name),\n",
    "            update = 'append'\n",
    "            )\n",
    "    \n",
    "def result_plot():\n",
    "    x = []\n",
    "    for i in range(param.epochs+1):\n",
    "        x.append(i*1000)\n",
    "\n",
    "    for name in test_result['Average of trials']:\n",
    "        visdom_plot(vis_plt, torch.Tensor(x), torch.Tensor(test_result['Average of trials'][name][2]),\n",
    "                            name)"
   ]
  },
  {
   "cell_type": "code",
   "execution_count": 15,
   "metadata": {},
   "outputs": [],
   "source": [
    "# train, test, prune, util function\n",
    "def train(model, dataloader, optimizer, criterion):\n",
    "    model.train()\n",
    "    running_loss = 0.0\n",
    "    for batch_idx, (data, label) in enumerate(dataloader):\n",
    "        data, label = data.to(device), label.to(device)\n",
    "        optimizer.zero_grad()\n",
    "        outputs = model(data)\n",
    "        loss = criterion(outputs, label)\n",
    "        loss.backward()\n",
    "        optimizer.step()\n",
    "        running_loss += loss / len(dataloader)\n",
    "    return running_loss\n",
    "\n",
    "def train2(model, dataloader, optimizer, criterion):\n",
    "    EPS = 1e-6\n",
    "    model.train()\n",
    "    running_loss = 0.0\n",
    "    for batch_idx, (data, label) in enumerate(dataloader):\n",
    "        data, label = data.to(device), label.to(device)\n",
    "        optimizer.zero_grad()\n",
    "        outputs = model(data)\n",
    "        loss = criterion(outputs, label)\n",
    "        loss.backward()\n",
    "                # Freezing Pruned weights by making their gradients Zero\n",
    "        for name, p in model.named_parameters():\n",
    "            if 'weight' in name:\n",
    "                tensor = p.data.cpu().numpy()\n",
    "                grad_tensor = p.grad.data.cpu().numpy()\n",
    "                grad_tensor = np.where(tensor < EPS, 0, grad_tensor)\n",
    "                p.grad.data = torch.from_numpy(grad_tensor).to(device)\n",
    "                \n",
    "        optimizer.step()\n",
    "        running_loss += loss / len(dataloader)\n",
    "    return running_loss\n",
    "\n",
    "def test(model, dataloader, criterion):\n",
    "    model.eval()\n",
    "    correct = 0\n",
    "    total = 0\n",
    "    test_loss = 0\n",
    "    with torch.no_grad():\n",
    "        for data, label in dataloader:\n",
    "            data, label = data.to(device), label.to(device)\n",
    "            outputs = model(data)\n",
    "            _, predicted = torch.max(outputs.data, 1)\n",
    "            loss = criterion(outputs, label)\n",
    "\n",
    "            test_loss += loss / len(dataloader)\n",
    "            total += label.size(0)\n",
    "            correct += (predicted == label).sum().item()\n",
    "        # 로더 -> 배치 개수 로더.dataset -> 전체 길이, \n",
    "    return (correct/total), test_loss\n",
    "\n",
    "def weight_counter(model):\n",
    "    layer_weight = {'all.weight':[0, 0, 0, 0]}\n",
    "    \n",
    "    for name, p in model.named_parameters():\n",
    "        if 'weight' in name:\n",
    "            remain, pruned = (p != 0).sum().item(), (p == 0).sum().item()\n",
    "            layer_weight[name] = [remain+pruned, remain, pruned, round((remain/(remain+pruned))*100, 2)]\n",
    "            \n",
    "    for i in layer_weight.keys():\n",
    "        for j in range(0, 3):\n",
    "            layer_weight['all.weight'][j] += layer_weight[i][j]\n",
    "    layer_weight['all.weight'][3] = round(layer_weight['all.weight'][1]/layer_weight['all.weight'][0]*100, 2)\n",
    "    print(\"------------------------------------------------------------\\n\",\n",
    "          \"Layer\".center(12), \"Weight\".center(39), \"Ratio(%)\".rjust(7), sep='')\n",
    "    for i in layer_weight.keys():\n",
    "        \n",
    "        print(\"%s\" % i.ljust(13), \":\",\n",
    "              (\"%s (%s | %s)\" % (layer_weight[i][0], layer_weight[i][1], layer_weight[i][2])).center(36),\n",
    "              (\"%.2f\" % layer_weight[i][3]).rjust(7),\n",
    "              sep=''\n",
    "             )\n",
    "    print(\"------------------------------------------------------------\")\n",
    "    return layer_weight"
   ]
  },
  {
   "cell_type": "code",
   "execution_count": 16,
   "metadata": {},
   "outputs": [],
   "source": [
    "criterion = nn.CrossEntropyLoss().to(device)\n",
    "optimizer = optim.Adam(model.parameters(), lr = lr, weight_decay = weight_decay)"
   ]
  },
  {
   "cell_type": "code",
   "execution_count": 20,
   "metadata": {},
   "outputs": [
    {
     "name": "stdout",
     "output_type": "stream",
     "text": [
      "------------------------------------------------------------\n",
      "   Layer                     Weight                Ratio(%)\n",
      "all.weight   :        266200 (266200 | 0)          100.00\n",
      "fc1.weight_orig:        235200 (235200 | 0)          100.00\n",
      "fc2.weight_orig:         30000 (30000 | 0)           100.00\n",
      "fcout.weight_orig:          1000 (1000 | 0)            100.00\n",
      "------------------------------------------------------------\n",
      "{'all.weight': [266200, 266200, 0, 100.0], 'fc1.weight_orig': [235200, 235200, 0, 100.0], 'fc2.weight_orig': [30000, 30000, 0, 100.0], 'fcout.weight_orig': [1000, 1000, 0, 100.0]}\n",
      "[epoch : 1] (l_loss: 0.41935) (t_loss: 0.26503) (accu: 0.9252)\n",
      "[epoch : 2] (l_loss: 0.26556) (t_loss: 0.27264) (accu: 0.9181)\n",
      "[epoch : 3] (l_loss: 0.22458) (t_loss: 0.20909) (accu: 0.9393)\n",
      "Finish! (Time taken(sec) : 41.08) \n",
      "\n",
      "\n",
      "------------------------------------------------------------\n",
      "   Layer                     Weight                Ratio(%)\n",
      "all.weight   :        266200 (266190 | 10)         100.00\n",
      "fc1.weight_orig:        235200 (235191 | 9)          100.00\n",
      "fc2.weight_orig:         30000 (29999 | 1)           100.00\n",
      "fcout.weight_orig:          1000 (1000 | 0)            100.00\n",
      "------------------------------------------------------------\n",
      "{'all.weight': [266200, 266190, 10, 100.0], 'fc1.weight_orig': [235200, 235191, 9, 100.0], 'fc2.weight_orig': [30000, 29999, 1, 100.0], 'fcout.weight_orig': [1000, 1000, 0, 100.0]}\n"
     ]
    }
   ],
   "source": [
    "for prune_iter in range(prune_iters):\n",
    "    print(weight_counter(model))\n",
    "\n",
    "    start_t = timeit.default_timer()\n",
    "\n",
    "    for epoch in range(epochs):\n",
    "        \n",
    "        running_loss = train2(model, train_loader, optimizer, criterion)\n",
    "        accuracy, test_loss = test(model, test_loader, criterion)\n",
    "        print('[epoch : %d] (l_loss: %.5f) (t_loss: %.5f) (accu: %.4f)' %\n",
    "                  ((epoch+1), (running_loss), (test_loss), (accuracy)))\n",
    "    stop_t = timeit.default_timer()\n",
    "\n",
    "    print(\"Finish! (Time taken(sec) : %.2f) \\n\\n\" %\n",
    "          ((stop_t - start_t)))\n",
    "    print(weight_counter(model))\n",
    "#result_plot()"
   ]
  },
  {
   "cell_type": "code",
   "execution_count": null,
   "metadata": {},
   "outputs": [],
   "source": [
    "print(weight_counter(model))"
   ]
  },
  {
   "cell_type": "code",
   "execution_count": 21,
   "metadata": {},
   "outputs": [
    {
     "data": {
      "text/plain": [
       "tensor([-3.9923e-42, -3.2728e-03,  7.1228e-42, -8.7679e-42, -2.9133e-42,\n",
       "         1.4909e-01,  4.3131e-01, -3.7409e-05,  1.3305e-02, -4.7378e-04,\n",
       "        -3.2579e-04, -1.1653e-03, -1.4359e-03,  1.3418e-01,  0.0000e+00,\n",
       "         3.4892e-42,  2.1135e-01,  0.0000e+00,  5.5071e-43,  3.6802e-01],\n",
       "       device='cuda:1')"
      ]
     },
     "execution_count": 21,
     "metadata": {},
     "output_type": "execute_result"
    }
   ],
   "source": [
    "model.fcout.weight[5][40:60]"
   ]
  },
  {
   "cell_type": "code",
   "execution_count": 22,
   "metadata": {},
   "outputs": [
    {
     "data": {
      "text/plain": [
       "tensor([-3.9923e-42, -3.2728e-03,  7.1228e-42, -8.7679e-42, -2.9133e-42,\n",
       "         1.4909e-01,  4.3131e-01, -3.7409e-05,  1.3305e-02, -4.7378e-04,\n",
       "        -3.2579e-04, -1.1653e-03, -1.4359e-03,  1.3418e-01,  5.1568e-42,\n",
       "         3.4892e-42,  2.1135e-01,  1.9831e-41,  5.5071e-43,  3.6802e-01],\n",
       "       device='cuda:1', grad_fn=<SliceBackward>)"
      ]
     },
     "execution_count": 22,
     "metadata": {},
     "output_type": "execute_result"
    }
   ],
   "source": [
    "model.fcout.weight_orig[5][40:60]"
   ]
  },
  {
   "cell_type": "code",
   "execution_count": 23,
   "metadata": {},
   "outputs": [
    {
     "data": {
      "text/plain": [
       "tensor([1., 1., 1., 1., 1., 1., 1., 1., 1., 1., 1., 1., 1., 1., 0., 1., 1., 0.,\n",
       "        1., 1.], device='cuda:1')"
      ]
     },
     "execution_count": 23,
     "metadata": {},
     "output_type": "execute_result"
    }
   ],
   "source": [
    "model.fcout.weight_mask[5][40:60]"
   ]
  },
  {
   "cell_type": "code",
   "execution_count": 25,
   "metadata": {},
   "outputs": [
    {
     "data": {
      "text/plain": [
       "tensor([-3.9923e-42, -3.2728e-03,  7.1228e-42, -8.7679e-42, -2.9133e-42,\n",
       "         1.4909e-01,  4.3131e-01, -3.7409e-05,  1.3305e-02, -4.7378e-04,\n",
       "        -3.2579e-04, -1.1653e-03, -1.4359e-03,  1.3418e-01,  0.0000e+00,\n",
       "         3.4892e-42,  2.1135e-01,  0.0000e+00,  5.5071e-43,  3.6802e-01],\n",
       "       device='cuda:1', grad_fn=<SliceBackward>)"
      ]
     },
     "execution_count": 25,
     "metadata": {},
     "output_type": "execute_result"
    }
   ],
   "source": [
    "model.fcout.weight[5][40:60]"
   ]
  },
  {
   "cell_type": "code",
   "execution_count": 26,
   "metadata": {},
   "outputs": [
    {
     "ename": "AttributeError",
     "evalue": "'Linear' object has no attribute 'weight_orig'",
     "output_type": "error",
     "traceback": [
      "\u001b[0;31m---------------------------------------------------------------------------\u001b[0m",
      "\u001b[0;31mAttributeError\u001b[0m                            Traceback (most recent call last)",
      "\u001b[0;32m<ipython-input-26-99c1530a49a0>\u001b[0m in \u001b[0;36m<module>\u001b[0;34m\u001b[0m\n\u001b[0;32m----> 1\u001b[0;31m \u001b[0mmodel\u001b[0m\u001b[0;34m.\u001b[0m\u001b[0mfcout\u001b[0m\u001b[0;34m.\u001b[0m\u001b[0mweight_orig\u001b[0m\u001b[0;34m[\u001b[0m\u001b[0;36m5\u001b[0m\u001b[0;34m]\u001b[0m\u001b[0;34m[\u001b[0m\u001b[0;36m40\u001b[0m\u001b[0;34m:\u001b[0m\u001b[0;36m60\u001b[0m\u001b[0;34m]\u001b[0m\u001b[0;34m\u001b[0m\u001b[0;34m\u001b[0m\u001b[0m\n\u001b[0m",
      "\u001b[0;32m~/anaconda3/lib/python3.7/site-packages/torch/nn/modules/module.py\u001b[0m in \u001b[0;36m__getattr__\u001b[0;34m(self, name)\u001b[0m\n\u001b[1;32m    592\u001b[0m                 \u001b[0;32mreturn\u001b[0m \u001b[0mmodules\u001b[0m\u001b[0;34m[\u001b[0m\u001b[0mname\u001b[0m\u001b[0;34m]\u001b[0m\u001b[0;34m\u001b[0m\u001b[0;34m\u001b[0m\u001b[0m\n\u001b[1;32m    593\u001b[0m         raise AttributeError(\"'{}' object has no attribute '{}'\".format(\n\u001b[0;32m--> 594\u001b[0;31m             type(self).__name__, name))\n\u001b[0m\u001b[1;32m    595\u001b[0m \u001b[0;34m\u001b[0m\u001b[0m\n\u001b[1;32m    596\u001b[0m     \u001b[0;32mdef\u001b[0m \u001b[0m__setattr__\u001b[0m\u001b[0;34m(\u001b[0m\u001b[0mself\u001b[0m\u001b[0;34m,\u001b[0m \u001b[0mname\u001b[0m\u001b[0;34m,\u001b[0m \u001b[0mvalue\u001b[0m\u001b[0;34m)\u001b[0m\u001b[0;34m:\u001b[0m\u001b[0;34m\u001b[0m\u001b[0;34m\u001b[0m\u001b[0m\n",
      "\u001b[0;31mAttributeError\u001b[0m: 'Linear' object has no attribute 'weight_orig'"
     ]
    }
   ],
   "source": []
  },
  {
   "cell_type": "code",
   "execution_count": null,
   "metadata": {},
   "outputs": [],
   "source": []
  }
 ],
 "metadata": {
  "kernelspec": {
   "display_name": "Python 3",
   "language": "python",
   "name": "python3"
  },
  "language_info": {
   "codemirror_mode": {
    "name": "ipython",
    "version": 3
   },
   "file_extension": ".py",
   "mimetype": "text/x-python",
   "name": "python",
   "nbconvert_exporter": "python",
   "pygments_lexer": "ipython3",
   "version": "3.7.6"
  }
 },
 "nbformat": 4,
 "nbformat_minor": 4
}
