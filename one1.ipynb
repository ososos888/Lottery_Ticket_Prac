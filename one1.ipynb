{
 "cells": [
  {
   "cell_type": "code",
   "execution_count": 13,
   "metadata": {},
   "outputs": [],
   "source": [
    "import torch\n",
    "import visdom"
   ]
  },
  {
   "cell_type": "code",
   "execution_count": 39,
   "metadata": {},
   "outputs": [
    {
     "name": "stderr",
     "output_type": "stream",
     "text": [
      "Setting up a new session...\n"
     ]
    }
   ],
   "source": [
    "# visdom setting\n",
    "vis = visdom.Visdom()\n",
    "vis.close(env=\"main\")\n",
    "\n",
    "# define loss tracker\n",
    "\n",
    "def loss_tracker(loss_plot, t_loss_value, v_loss_value, num):\n",
    "    '''num, loss_value, are Tensor'''\n",
    "\n",
    "    vis.line(X=num,\n",
    "             Y=t_loss_value,\n",
    "             win = loss_plot,\n",
    "             name = '1',\n",
    "             update='append'\n",
    "             )\n",
    "    \n",
    "    vis.line(X=num,\n",
    "             Y=v_loss_value,\n",
    "             win = loss_plot,\n",
    "             name = '2',\n",
    "             update='append'\n",
    "             )"
   ]
  },
  {
   "cell_type": "code",
   "execution_count": 42,
   "metadata": {},
   "outputs": [],
   "source": [
    "loss_plt = vis.line(Y=torch.Tensor(1).zero_(), opts=dict(title='loss_tracker',\n",
    "                                                        showlegend=True))"
   ]
  },
  {
   "cell_type": "code",
   "execution_count": 43,
   "metadata": {},
   "outputs": [],
   "source": [
    "b = [1, 2, 3, 4, 5]\n",
    "for a in range(len(b)):\n",
    "    x = a+100\n",
    "    y = -a+100\n",
    "    loss_tracker(loss_plt, torch.Tensor([x]),\n",
    "                 torch.Tensor([y]), torch.Tensor([a]))\n"
   ]
  },
  {
   "cell_type": "code",
   "execution_count": null,
   "metadata": {},
   "outputs": [],
   "source": []
  }
 ],
 "metadata": {
  "kernelspec": {
   "display_name": "Python 3",
   "language": "python",
   "name": "python3"
  },
  "language_info": {
   "codemirror_mode": {
    "name": "ipython",
    "version": 3
   },
   "file_extension": ".py",
   "mimetype": "text/x-python",
   "name": "python",
   "nbconvert_exporter": "python",
   "pygments_lexer": "ipython3",
   "version": "3.7.6"
  }
 },
 "nbformat": 4,
 "nbformat_minor": 4
}
