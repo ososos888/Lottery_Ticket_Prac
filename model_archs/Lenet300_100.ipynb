{
 "cells": [
  {
   "cell_type": "code",
   "execution_count": 1,
   "metadata": {},
   "outputs": [],
   "source": [
    "import torch\n",
    "import torch.nn as nn\n"
   ]
  },
  {
   "cell_type": "code",
   "execution_count": 2,
   "metadata": {},
   "outputs": [],
   "source": [
    "class Lenet300_100(nn.Module):\n",
    "    def __init__(self):\n",
    "        super(Lenet300_100, self).__init__()\n",
    "        \n",
    "        self.fc1 = nn.Linear(28*28, 300, bias = True)\n",
    "        self.fc2 = nn.Linear(300, 100, bias = True)\n",
    "        self.fcout = nn.Linear(100, 10, bias = True)\n",
    "        \n",
    "        init.xavier_normal_(self.fc1.weight)\n",
    "        init.xavier_normal_(self.fc2.weight)\n",
    "        init.xavier_normal_(self.fcout.weight)\n",
    "        #init.normal_(self.fc1.bias)\n",
    "        #init.normal_(self.fc2.bias)\n",
    "        #init.normal_(self.fcout.bias)\n",
    "        \n",
    "    def forward(self, x):\n",
    "        x = x.view(x.size(0), -1)\n",
    "        x = F.relu(self.fc1(x))\n",
    "        x = F.relu(self.fc2(x))\n",
    "        x = self.fcout(x)\n",
    "        return x"
   ]
  },
  {
   "cell_type": "code",
   "execution_count": null,
   "metadata": {},
   "outputs": [],
   "source": []
  }
 ],
 "metadata": {
  "kernelspec": {
   "display_name": "Python 3",
   "language": "python",
   "name": "python3"
  },
  "language_info": {
   "codemirror_mode": {
    "name": "ipython",
    "version": 3
   },
   "file_extension": ".py",
   "mimetype": "text/x-python",
   "name": "python",
   "nbconvert_exporter": "python",
   "pygments_lexer": "ipython3",
   "version": "3.7.6"
  }
 },
 "nbformat": 4,
 "nbformat_minor": 4
}
