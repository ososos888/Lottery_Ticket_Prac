{
 "cells": [
  {
   "cell_type": "code",
   "execution_count": null,
   "metadata": {},
   "outputs": [],
   "source": [
    "class parameters:\n",
    "    def __init__(self):\n",
    "        self.lr = 'empty'\n",
    "        self.epochs = 'empty'\n",
    "        self.batch_size = 'empty'\n",
    "        self.weight_decay = 'empty'\n",
    "        self.iteration = 'empty'\n",
    "        self.__remaining_weight = 'empty'\n",
    "        self.prune_per = 'empty'\n",
    "        self.noi = 'empty'\n",
    "        self.trainset = 'empty'\n",
    "        self.valset = 'empty'\n",
    "        self.testset = 'empty'\n",
    "        self.train_loader = 'empty'\n",
    "        self.val_loader = 'empty'\n",
    "        self.test_loader = 'empty'\n",
    "    \n",
    "        @property\n",
    "        def name(self):\n",
    "            return self.__remaining_weight\n",
    "        @remaining_weight.setter\n",
    "        def name(self, remaining_weight):\n",
    "            self.__remaining_weight = remaining_weight\n",
    "            \n",
    "    def type(self, x):\n",
    "        if x == 'LeNet300':\n",
    "            self.lr = 0.0012\n",
    "            self.epochs = 30\n",
    "            self.batch_size = 60\n",
    "            self.weight_decay = 1.2e-3\n",
    "            self.iteration = 0\n",
    "            self.remaining_weight = 1\n",
    "            self.prune_per = 0.2\n",
    "            self.noi = 11\n",
    "            self.transforms = transforms.Compose([transforms.ToTensor(), transforms.Normalize((0.1307,), (0.3081,))])\n",
    "            self.trainset = dsets.MNIST(root='../MNIST_data/',\n",
    "                                     train=True,\n",
    "                                     transform = self.transforms,\n",
    "                                     download=True)\n",
    "            self.testset = dsets.MNIST(root='../MNIST_data/',\n",
    "                                    train=False,\n",
    "                                    transform = self.transforms,\n",
    "                                    download=True)\n",
    "            self.train_loader = torch.utils.data.DataLoader(dataset = self.trainset,\n",
    "                                                     batch_size=self.batch_size,\n",
    "                                                     shuffle=True,\n",
    "                                                     drop_last=True)\n",
    "            self.test_loader = torch.utils.data.DataLoader(dataset = self.testset,\n",
    "                                                     shuffle=False,\n",
    "                                                     drop_last=True)\n",
    "            \n",
    "            \n",
    "        if x == 'conv6':\n",
    "            self.lr = 300"
   ]
  }
 ],
 "metadata": {
  "kernelspec": {
   "display_name": "Python 3",
   "language": "python",
   "name": "python3"
  },
  "language_info": {
   "codemirror_mode": {
    "name": "ipython",
    "version": 3
   },
   "file_extension": ".py",
   "mimetype": "text/x-python",
   "name": "python",
   "nbconvert_exporter": "python",
   "pygments_lexer": "ipython3",
   "version": "3.7.6"
  }
 },
 "nbformat": 4,
 "nbformat_minor": 4
}
