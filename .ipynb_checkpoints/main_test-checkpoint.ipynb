{
 "cells": [
  {
   "cell_type": "code",
   "execution_count": 1,
   "metadata": {},
   "outputs": [],
   "source": [
    "import torch\n",
    "import torch.nn as nn\n",
    "import torch.optim as optim\n",
    "import torchvision.datasets as dsets\n",
    "import torchvision.transforms as transforms\n",
    "import torch.nn.init as init\n",
    "import torch.nn.functional as F\n",
    "import visdom\n",
    "import copy\n",
    "import torch.nn.utils.prune as prune\n",
    "from tqdm.notebook import tqdm\n",
    "import numpy as np\n",
    "import timeit\n",
    "\n",
    "# custom librarys (model, parameters...) Lottery_Ticket_Prac/custom/utils.py\n",
    "import custom.utils as cu"
   ]
  },
  {
   "cell_type": "code",
   "execution_count": 2,
   "metadata": {},
   "outputs": [],
   "source": [
    "torch.manual_seed(55)\n",
    "torch.cuda.manual_seed_all(55)\n",
    "torch.backends.cudnn.enabled = False"
   ]
  },
  {
   "cell_type": "code",
   "execution_count": 3,
   "metadata": {},
   "outputs": [
    {
     "name": "stdout",
     "output_type": "stream",
     "text": [
      "Available devices  2\n",
      "Current cuda device  1\n",
      "GeForce RTX 2080 Ti\n",
      "cpu와 cuda 중 다음 기기로 학습함: cuda:1 \n",
      "\n"
     ]
    }
   ],
   "source": [
    "# cuda setting\n",
    "GPU_NUM = 1\n",
    "device = torch.device(f'cuda:{GPU_NUM}' if torch.cuda.is_available() else 'cpu')\n",
    "torch.cuda.set_device(device)\n",
    "\n",
    "print ('Available devices ', torch.cuda.device_count())\n",
    "print ('Current cuda device ', torch.cuda.current_device())\n",
    "print(torch.cuda.get_device_name(device))\n",
    "\n",
    "print(\"cpu와 cuda 중 다음 기기로 학습함:\", device, '\\n')"
   ]
  },
  {
   "cell_type": "code",
   "execution_count": 4,
   "metadata": {},
   "outputs": [
    {
     "name": "stdout",
     "output_type": "stream",
     "text": [
      "model_type: LeNet300\n",
      "lr: 0.0012\n",
      "epochs: 50\n",
      "batch_size: 60\n",
      "weight_decay: 0.0012\n",
      "iteration: 0\n",
      "prune_per_c: 1\n",
      "prune_per_f: 0.2\n",
      "prune_per_o: 0.1\n",
      "noi: 12\n",
      "trainset: Dataset MNIST\n",
      "    Number of datapoints: 60000\n",
      "    Root location: ../MNIST_data/\n",
      "    Split: Train\n",
      "    StandardTransform\n",
      "Transform: Compose(\n",
      "               ToTensor()\n",
      "               Normalize(mean=(0.1307,), std=(0.3081,))\n",
      "           )\n",
      "valset: empty\n",
      "testset: Dataset MNIST\n",
      "    Number of datapoints: 10000\n",
      "    Root location: ../MNIST_data/\n",
      "    Split: Test\n",
      "    StandardTransform\n",
      "Transform: Compose(\n",
      "               ToTensor()\n",
      "               Normalize(mean=(0.1307,), std=(0.3081,))\n",
      "           )\n",
      "train_loader: <torch.utils.data.dataloader.DataLoader object at 0x7f711cdcf1d0>\n",
      "val_loader: empty\n",
      "test_loader: <torch.utils.data.dataloader.DataLoader object at 0x7f712486ed10>\n"
     ]
    }
   ],
   "source": [
    "# set model type\n",
    "model_type = 'LeNet300'\n",
    "#model_type = 'Conv6'\n",
    "\n",
    "best_accu = []\n",
    "\n",
    "# model, parameter get\n",
    "param = cu.parameters()\n",
    "\n",
    "if model_type == 'LeNet300':\n",
    "    model = cu.LeNet300().to(device)\n",
    "elif model_type == 'Conv6':\n",
    "    model = cu.Conv6().to(device)\n",
    "#elif ...\n",
    "    \n",
    "param.type(model_type)    \n",
    "model_init = copy.deepcopy(model)\n",
    "criterion = nn.CrossEntropyLoss().to(device)\n",
    "\n",
    "# parameter check\n",
    "print('\\n'.join(\"%s: %s\" % item for item in param.__dict__.items()))"
   ]
  },
  {
   "cell_type": "code",
   "execution_count": 5,
   "metadata": {},
   "outputs": [
    {
     "name": "stderr",
     "output_type": "stream",
     "text": [
      "Setting up a new session...\n"
     ]
    }
   ],
   "source": [
    "# visdom setting\n",
    "vis = visdom.Visdom()\n",
    "vis.close(env=\"main\")\n",
    "\n",
    "Tracker_type = \"Accuracy_Tracker\"\n",
    "title = model_type + \"_\" + Tracker_type\n",
    "\n",
    "# make plot\n",
    "vis_plt = vis.line(X=torch.Tensor(1).zero_(), Y=torch.Tensor(1).zero_(), \n",
    "                    opts=dict(title = title,\n",
    "                              legend=['100.0'],\n",
    "                             showlegend=True,\n",
    "                              xtickmin = 0,\n",
    "                              xtickmax = 20000,\n",
    "                              ytickmin = 0.95,\n",
    "                              ytickmax = 0.99\n",
    "                             )\n",
    "                   )\n",
    "\n",
    "def visdom_plot(loss_plot, num, loss_value, name):\n",
    "    vis.line(X = num,\n",
    "            Y = loss_value,\n",
    "            win = loss_plot,\n",
    "            name = name,\n",
    "            update = 'append'\n",
    "            )"
   ]
  },
  {
   "cell_type": "code",
   "execution_count": 6,
   "metadata": {},
   "outputs": [
    {
     "data": {
      "text/plain": [
       "'\\n'"
      ]
     },
     "execution_count": 6,
     "metadata": {},
     "output_type": "execute_result"
    }
   ],
   "source": [
    "# change parameter for test (class에 직접 접근하여 변경)\n",
    "param.epochs = 5\n",
    "param.noi = 5\n",
    "\"\"\"\n",
    "\"\"\""
   ]
  },
  {
   "cell_type": "code",
   "execution_count": 7,
   "metadata": {},
   "outputs": [],
   "source": [
    "#a = '12345.weight_mask'"
   ]
  },
  {
   "cell_type": "code",
   "execution_count": 8,
   "metadata": {},
   "outputs": [],
   "source": [
    "#a[:(len(a)-12)]"
   ]
  },
  {
   "cell_type": "code",
   "execution_count": 9,
   "metadata": {},
   "outputs": [],
   "source": [
    "#cp_mask"
   ]
  },
  {
   "cell_type": "code",
   "execution_count": 10,
   "metadata": {},
   "outputs": [],
   "source": [
    "# train, test, prune function\n",
    "def train(model, dataloader, optimizer, criterion, cp_mask):\n",
    "    model.train()\n",
    "    running_loss = 0.0\n",
    "    for batch_idx, (data, label) in enumerate(dataloader):\n",
    "        data, label = data.to(device), label.to(device)\n",
    "        optimizer.zero_grad()\n",
    "        outputs = model(data)\n",
    "        loss = criterion(outputs, label)\n",
    "        loss.backward()\n",
    "        # freeze 0-weight gradient\n",
    "        \"\"\"\n",
    "        if cp_mask:\n",
    "            i = 0\n",
    "            for name, p in model.named_parameters():\n",
    "                if 'weight' in name:\n",
    "                    p.grad.data *= cp_mask[i]\n",
    "                    i += 1\n",
    "        \"\"\"\n",
    "        optimizer.step()\n",
    "        running_loss += loss / len(dataloader)\n",
    "    return running_loss\n",
    "\n",
    "def test(model, dataloader, criterion):\n",
    "    model.eval()\n",
    "    correct = 0\n",
    "    total = 0\n",
    "    test_loss = 0\n",
    "    with torch.no_grad():\n",
    "        for data, label in dataloader:\n",
    "            data, label = data.to(device), label.to(device)\n",
    "            outputs = model(data)\n",
    "            _, predicted = torch.max(outputs.data, 1)\n",
    "            loss = criterion(outputs, label)\n",
    "\n",
    "            test_loss += loss / len(dataloader)\n",
    "            total += label.size(0)\n",
    "            correct += (predicted == label).sum().item()\n",
    "        # 로더 -> 배치 개수 로더.dataset -> 전체 길이, \n",
    "    return (correct/total), test_loss\n",
    "\n",
    "# prune function\n",
    "# pruning mask 생성 -> mask 복사 -> init값 복사 -> prune 진행\n",
    "def weight_init(model1, model2, c_rate, f_rate, o_rate):\n",
    "    # layer별로 지정된 rate만큼 prune mask 생성\n",
    "    for name, module in model1.named_modules():\n",
    "        if isinstance(module, nn.Conv2d):\n",
    "            prune.l1_unstructured(module, name = 'weight', amount = c_rate)\n",
    "        if isinstance(module, nn.Linear):\n",
    "            if name != 'fc3':\n",
    "                prune.l1_unstructured(module, name = 'weight', amount = f_rate)\n",
    "            else:\n",
    "                prune.l1_unstructured(module, name = 'weight', amount = o_rate)\n",
    "                        \n",
    "    # mask 복사\n",
    "    \"\"\"\n",
    "    cp_mask = []\n",
    "    for name, mask in model1.named_buffers():\n",
    "        cp_mask.append(mask)\n",
    "    \"\"\"\n",
    "    cp_mask = {}\n",
    "    for name, mask in model1.named_buffers():\n",
    "        cp_mask[name[:(len(name)-12)]] = mask\n",
    "    \n",
    "    # init 값을 model에 복사\n",
    "    for name, p in model1.named_parameters():\n",
    "        if 'weight_orig' in name:\n",
    "            for name2, p2 in model2.named_parameters():\n",
    "                if name[0:len(name) - 5] in name2:\n",
    "                    p.data = copy.deepcopy(p2.data)\n",
    "        if 'bias_orig' in name:\n",
    "            for name2, p2 in model2.named_parameters():\n",
    "                if name[0:len(name) - 5] in name2:\n",
    "                    p.data = copy.deepcopy(p2.data)\n",
    "                    \n",
    "    # prune 진행\n",
    "    for name, module in model1.named_modules():\n",
    "        if isinstance(module, nn.Conv2d):\n",
    "            prune.remove(module, name = 'weight')\n",
    "        elif isinstance(module, nn.Linear):\n",
    "            prune.remove(module, name = 'weight')            \n",
    "    # copy된 mask return\n",
    "    return cp_mask\n",
    "\n",
    "# weight count function\n",
    "# dict type ['Layer name' : [all, non_zero, zero, ratio]]\n",
    "def weight_counter(model):\n",
    "    layer_weight = {'all.weight':[0, 0, 0, 0]}\n",
    "    \n",
    "    for name, p in model.named_parameters():\n",
    "        if 'weight' in name:\n",
    "            remain, pruned = (p != 0).sum().item(), (p == 0).sum().item()\n",
    "            layer_weight[name] = [remain+pruned, remain, pruned, round((remain/(remain+pruned))*100, 2)]\n",
    "            \n",
    "    for i in layer_weight.keys():\n",
    "        for j in range(0, 3):\n",
    "            layer_weight['all.weight'][j] += layer_weight[i][j]\n",
    "    layer_weight['all.weight'][3] = round(layer_weight['all.weight'][1]/layer_weight['all.weight'][0]*100, 2)\n",
    "\n",
    "    print(\"Layer\".center(12), \"Weight\".center(39), \"Ratio(%)\".rjust(7), sep='')\n",
    "    for i in layer_weight.keys():\n",
    "        print(\"%s\" % i.ljust(13), \":\",\n",
    "              (\"%s (%s | %s)\" % (layer_weight[i][0], layer_weight[i][1], layer_weight[i][2])).center(36),\n",
    "              (\"%.2f\" % layer_weight[i][3]).rjust(7),\n",
    "              sep=''\n",
    "             )       \n",
    "    return layer_weight\n",
    "\n",
    "# print best accuracy in each iteration\n",
    "def best_accuracy(best_accu):\n",
    "    print(best_accu)\n",
    "    print(len(best_accu))\n",
    "    print(\"Maximum accuracy weight remaining\")\n",
    "    for i in range(len(best_accu)):\n",
    "        print(\"Remaining weight %.1f %% \" % (best_accu[i][0]),\n",
    "             \"Epoch %d\" % best_accu[i][1],\n",
    "             \"Accu %.4f\" % best_accu[i][2])"
   ]
  },
  {
   "cell_type": "code",
   "execution_count": 11,
   "metadata": {},
   "outputs": [],
   "source": [
    "#optimizer = optim.Adam(model.parameters(), lr = param.lr, weight_decay = param.weight_decay)"
   ]
  },
  {
   "cell_type": "markdown",
   "metadata": {},
   "source": [
    "def make_test (i, cp_mask):\n",
    "   # this i refers to the parameter (which evaluates to the /value/ passed)\n",
    "   return (lambda grad: grad.mul_(cp_mask[i]))\n",
    "\"\"\"\n",
    "i = 0\n",
    "for name, data in model.named_parameters():\n",
    "    if 'weight' in name:\n",
    "        hook = model.fc1.weight.register_hook(make_test(i))\n",
    "        i += 1\n",
    "\n",
    "optimizer = optim.Adam(model.parameters(), lr = param.lr, weight_decay = param.weight_decay)\n",
    "\"\"\""
   ]
  },
  {
   "cell_type": "markdown",
   "metadata": {},
   "source": [
    "print(make_test(i, cp_mask))"
   ]
  },
  {
   "cell_type": "markdown",
   "metadata": {},
   "source": [
    "optimizer = optim.Adam(model.parameters(), lr = param.lr, weight_decay = param.weight_decay)"
   ]
  },
  {
   "cell_type": "markdown",
   "metadata": {},
   "source": [
    "\n",
    "cp_mask = weight_init(model, model_init, \n",
    "                       (1),\n",
    "                       (0.5),\n",
    "                       (0.5)\n",
    "                      )\n",
    "a = model.fc1.weight.clone()\n",
    "#a = model.fc1.weight.grad.mul_(cp_mask[0])\n",
    "#hook = model.fc1.weight.register_hook(a)"
   ]
  },
  {
   "cell_type": "markdown",
   "metadata": {},
   "source": [
    "for batch_idx, (data, label) in enumerate(param.train_loader):\n",
    "        print(model.fc1.weight.grad)\n",
    "        data, label = data.to(device), label.to(device)\n",
    "        print(model.fc1.weight.grad)\n",
    "        optimizer.zero_grad()\n",
    "        print(model.fc1.weight.grad)\n",
    "        outputs = model(data)\n",
    "        print(model.fc1.weight.grad)\n",
    "        loss = criterion(outputs, label)\n",
    "        print(model.fc1.weight.grad)\n",
    "        loss.backward()\n",
    "        print(model.fc1.weight.grad)\n",
    "        \n",
    "        break"
   ]
  },
  {
   "cell_type": "code",
   "execution_count": null,
   "metadata": {},
   "outputs": [],
   "source": []
  },
  {
   "cell_type": "markdown",
   "metadata": {},
   "source": [
    "print(model.fc1.weight.grad)"
   ]
  },
  {
   "cell_type": "markdown",
   "metadata": {},
   "source": []
  },
  {
   "cell_type": "markdown",
   "metadata": {},
   "source": [
    "optimizer.zero_grad()"
   ]
  },
  {
   "cell_type": "markdown",
   "metadata": {},
   "source": []
  },
  {
   "cell_type": "markdown",
   "metadata": {},
   "source": [
    "module.weight.register_hook(lambda x, name=name: x*mask_dict[name])\n"
   ]
  },
  {
   "cell_type": "markdown",
   "metadata": {},
   "source": [
    "i = 0\n",
    "for name, data in range(model.named_parameters()):\n",
    "    print(name)\n",
    "    if 'weight' in name:\n",
    "        module.weight.register_hook(lambda x, name=name: x*mask_dict[name])\n",
    "        #a = (lambda grad : grad.mul_(cp_mask[i]))\n",
    "        #print(a)\n",
    "        #hook = model.fc1.weight.register_hook(make_test(i, cp_mask))\n",
    "        i += 1"
   ]
  },
  {
   "cell_type": "markdown",
   "metadata": {},
   "source": [
    "i = 0\n",
    "for name, module in model.named_modules():\n",
    "    print(name)\n",
    "    i += 1"
   ]
  },
  {
   "cell_type": "markdown",
   "metadata": {},
   "source": [
    "j = 0\n",
    "for name, data in (model.named_parameters()):\n",
    "    if 'weight' in name:\n",
    "        #module.weight.register_hook(lambda x, name=name: x*mask_dict[name])\n",
    "        #a = copy.deepcopy(lambda grad : grad.mul_(cp_mask[j]))\n",
    "        #print(a)\n",
    "        hook = data.register_hook(lambda grad, name=name : grad.mul_(cp_mask[j]))\n",
    "        #print(hook)\n",
    "        j += 1"
   ]
  },
  {
   "cell_type": "markdown",
   "metadata": {},
   "source": [
    "#def apply_mask(model, mask_dict):\n",
    "i = 0\n",
    "for name, module in model.named_modules():\n",
    "    if 'fc' in name:\n",
    "        module.weight.data *= cp_mask[i]\n",
    "        #checking if names of layers and it's tensor shapes match with that of masks\n",
    "        print('module name is:', name, 'and weight size is:', module.weight.size()) \n",
    "        print('corresponding tensor is:', cp_mask[i].shape) #matching shapes for multiplication\n",
    "\n",
    "        module.weight.register_hook(lambda grad, name=name : grad.mul_(cp_mask[j]))\n",
    "        i += 1"
   ]
  },
  {
   "cell_type": "code",
   "execution_count": 12,
   "metadata": {},
   "outputs": [
    {
     "name": "stdout",
     "output_type": "stream",
     "text": [
      "tensor([-0.0364, -0.0253,  0.0110, -0.0491, -0.0176, -0.0388, -0.0201,  0.0141,\n",
      "         0.0521,  0.0196,  0.0637, -0.0456, -0.0173, -0.0687,  0.0146,  0.0409,\n",
      "        -0.0027,  0.0476, -0.0080,  0.0368,  0.0281,  0.0333, -0.0130,  0.0091,\n",
      "         0.0487], device='cuda:1', grad_fn=<SliceBackward>)\n",
      "   Layer                     Weight                Ratio(%)\n",
      "all.weight   :        266200 (266200 | 0)          100.00\n",
      "fc1.weight   :        235200 (235200 | 0)          100.00\n",
      "fc2.weight   :         30000 (30000 | 0)           100.00\n",
      "fc3.weight   :          1000 (1000 | 0)            100.00\n",
      "Learning start!\n",
      "\n"
     ]
    },
    {
     "data": {
      "application/vnd.jupyter.widget-view+json": {
       "model_id": "8d07413b43a645c38f5913380b0a52db",
       "version_major": 2,
       "version_minor": 0
      },
      "text/plain": [
       "HBox(children=(FloatProgress(value=0.0, max=5.0), HTML(value='')))"
      ]
     },
     "metadata": {},
     "output_type": "display_data"
    },
    {
     "name": "stdout",
     "output_type": "stream",
     "text": [
      "[epoch : 0] (r_loss: x.xxxxx) (t_loss: x.xxxxx) (accu: 0.0735)\n",
      "[epoch : 1] (r_loss: 0.20805) (t_loss: 0.14887) (accu: 0.9502)\n",
      "[epoch : 2] (r_loss: 0.10718) (t_loss: 0.11349) (accu: 0.9627)\n",
      "[epoch : 3] (r_loss: 0.09354) (t_loss: 0.10031) (accu: 0.9679)\n",
      "[epoch : 4] (r_loss: 0.08629) (t_loss: 0.09715) (accu: 0.9680)\n",
      "[epoch : 5] (r_loss: 0.08111) (t_loss: 0.08932) (accu: 0.9716)\n",
      "\n",
      "---------------------------------------\n",
      "   Layer                     Weight                Ratio(%)\n",
      "all.weight   :        266200 (266200 | 0)          100.00\n",
      "fc1.weight   :        235200 (235200 | 0)          100.00\n",
      "fc2.weight   :         30000 (30000 | 0)           100.00\n",
      "fc3.weight   :          1000 (1000 | 0)            100.00\n",
      "---------------------------------------\n",
      "tensor([-0.0063,  0.0142, -0.0029,  0.0006,  0.0260,  0.0216,  0.0080,  0.0015,\n",
      "         0.0015,  0.0009, -0.0002,  0.0003, -0.0036, -0.0059, -0.0121,  0.0129,\n",
      "         0.0123,  0.0176,  0.0139,  0.0391,  0.0520,  0.0293,  0.0387,  0.0185,\n",
      "        -0.0336], device='cuda:1', grad_fn=<SliceBackward>)\n",
      "Finish! (Best accu: 0.9716) (Time taken(sec) : 58.79) \n",
      "\n",
      "\n",
      "\n",
      "\n",
      "\n",
      "\n",
      "\n",
      "tensor([-0.0364, -0.0253,  0.0110, -0.0491, -0.0176, -0.0388, -0.0201,  0.0141,\n",
      "         0.0521,  0.0196,  0.0000, -0.0000, -0.0173, -0.0687,  0.0146,  0.0409,\n",
      "        -0.0027,  0.0476, -0.0080,  0.0368,  0.0281,  0.0333, -0.0130,  0.0091,\n",
      "         0.0487], device='cuda:1', grad_fn=<SliceBackward>)\n",
      "   Layer                     Weight                Ratio(%)\n",
      "all.weight   :      266200 (213060 | 53140)         80.04\n",
      "fc1.weight   :      235200 (188160 | 47040)         80.00\n",
      "fc2.weight   :        30000 (24000 | 6000)          80.00\n",
      "fc3.weight   :          1000 (900 | 100)            90.00\n",
      "Learning start!\n",
      "\n"
     ]
    },
    {
     "data": {
      "application/vnd.jupyter.widget-view+json": {
       "model_id": "4db9c81454944b3097d2ce1e5674b324",
       "version_major": 2,
       "version_minor": 0
      },
      "text/plain": [
       "HBox(children=(FloatProgress(value=0.0, max=5.0), HTML(value='')))"
      ]
     },
     "metadata": {},
     "output_type": "display_data"
    },
    {
     "name": "stdout",
     "output_type": "stream",
     "text": [
      "[epoch : 0] (r_loss: x.xxxxx) (t_loss: x.xxxxx) (accu: 0.1287)\n",
      "[epoch : 1] (r_loss: 0.19947) (t_loss: 0.11859) (accu: 0.9628)\n",
      "[epoch : 2] (r_loss: 0.10571) (t_loss: 0.10958) (accu: 0.9642)\n",
      "[epoch : 3] (r_loss: 0.08939) (t_loss: 0.12707) (accu: 0.9587)\n",
      "[epoch : 4] (r_loss: 0.08335) (t_loss: 0.09968) (accu: 0.9676)\n",
      "[epoch : 5] (r_loss: 0.07658) (t_loss: 0.11073) (accu: 0.9639)\n",
      "\n",
      "---------------------------------------\n",
      "   Layer                     Weight                Ratio(%)\n",
      "all.weight   :      266200 (213060 | 53140)         80.04\n",
      "fc1.weight   :      235200 (188160 | 47040)         80.00\n",
      "fc2.weight   :        30000 (24000 | 6000)          80.00\n",
      "fc3.weight   :          1000 (900 | 100)            90.00\n",
      "---------------------------------------\n",
      "tensor([ 0.0080, -0.0153, -0.0423, -0.0184, -0.0123,  0.0106,  0.0048,  0.0033,\n",
      "         0.0033,  0.0020,  0.0000, -0.0000, -0.0113, -0.0175, -0.0063,  0.0486,\n",
      "         0.0512,  0.0271, -0.0130, -0.0366, -0.0037,  0.0454,  0.0833,  0.0574,\n",
      "         0.0276], device='cuda:1', grad_fn=<SliceBackward>)\n",
      "Finish! (Best accu: 0.9676) (Time taken(sec) : 59.22) \n",
      "\n",
      "\n",
      "\n",
      "\n",
      "\n",
      "\n",
      "\n",
      "tensor([-0.0364, -0.0253,  0.0110, -0.0491, -0.0176, -0.0388, -0.0201,  0.0141,\n",
      "         0.0521,  0.0196,  0.0000, -0.0000, -0.0173, -0.0687,  0.0146,  0.0409,\n",
      "        -0.0027,  0.0476, -0.0080,  0.0368,  0.0281,  0.0333, -0.0130,  0.0091,\n",
      "         0.0487], device='cuda:1', grad_fn=<SliceBackward>)\n",
      "   Layer                     Weight                Ratio(%)\n",
      "all.weight   :      266200 (170538 | 95662)         64.06\n",
      "fc1.weight   :      235200 (150528 | 84672)         64.00\n",
      "fc2.weight   :       30000 (19200 | 10800)          64.00\n",
      "fc3.weight   :          1000 (810 | 190)            81.00\n",
      "Learning start!\n",
      "\n"
     ]
    },
    {
     "data": {
      "application/vnd.jupyter.widget-view+json": {
       "model_id": "5a84e2d6da2b4a20a8062a58f1ab5025",
       "version_major": 2,
       "version_minor": 0
      },
      "text/plain": [
       "HBox(children=(FloatProgress(value=0.0, max=5.0), HTML(value='')))"
      ]
     },
     "metadata": {},
     "output_type": "display_data"
    },
    {
     "name": "stdout",
     "output_type": "stream",
     "text": [
      "[epoch : 0] (r_loss: x.xxxxx) (t_loss: x.xxxxx) (accu: 0.2045)\n",
      "[epoch : 1] (r_loss: 0.19382) (t_loss: 0.11184) (accu: 0.9658)\n",
      "[epoch : 2] (r_loss: 0.10102) (t_loss: 0.10812) (accu: 0.9644)\n",
      "[epoch : 3] (r_loss: 0.08698) (t_loss: 0.10264) (accu: 0.9686)\n",
      "[epoch : 4] (r_loss: 0.07906) (t_loss: 0.08797) (accu: 0.9723)\n",
      "[epoch : 5] (r_loss: 0.07493) (t_loss: 0.09596) (accu: 0.9704)\n",
      "\n",
      "---------------------------------------\n",
      "   Layer                     Weight                Ratio(%)\n",
      "all.weight   :      266200 (170538 | 95662)         64.06\n",
      "fc1.weight   :      235200 (150528 | 84672)         64.00\n",
      "fc2.weight   :       30000 (19200 | 10800)          64.00\n",
      "fc3.weight   :          1000 (810 | 190)            81.00\n",
      "---------------------------------------\n",
      "tensor([-1.1500e-03,  8.6840e-04, -5.4905e-05,  2.3534e-04, -1.6003e-03,\n",
      "        -9.5676e-03,  3.6602e-05, -6.5233e-05, -6.8787e-05, -4.7163e-05,\n",
      "         0.0000e+00, -0.0000e+00,  1.0154e-03,  7.0820e-04, -1.4696e-03,\n",
      "         6.1298e-03,  1.0568e-02,  1.3242e-02,  9.2206e-03,  8.4529e-03,\n",
      "         1.7196e-02,  2.3890e-02,  2.2925e-02,  4.7572e-03, -1.0697e-02],\n",
      "       device='cuda:1', grad_fn=<SliceBackward>)\n",
      "Finish! (Best accu: 0.9723) (Time taken(sec) : 59.86) \n",
      "\n",
      "\n",
      "\n",
      "\n",
      "\n",
      "\n",
      "\n",
      "tensor([-0.0000, -0.0000,  0.0000, -0.0000, -0.0176, -0.0388, -0.0000,  0.0000,\n",
      "         0.0000,  0.0000,  0.0000, -0.0000, -0.0000, -0.0000,  0.0146,  0.0409,\n",
      "        -0.0027,  0.0476, -0.0080,  0.0368,  0.0281,  0.0333, -0.0130,  0.0091,\n",
      "         0.0487], device='cuda:1', grad_fn=<SliceBackward>)\n",
      "   Layer                     Weight                Ratio(%)\n",
      "all.weight   :      266200 (136511 | 129689)        51.28\n",
      "fc1.weight   :      235200 (120422 | 114778)        51.20\n",
      "fc2.weight   :       30000 (15360 | 14640)          51.20\n",
      "fc3.weight   :          1000 (729 | 271)            72.90\n",
      "Learning start!\n",
      "\n"
     ]
    },
    {
     "data": {
      "application/vnd.jupyter.widget-view+json": {
       "model_id": "007a435dcc2846f59e9290636634b4fd",
       "version_major": 2,
       "version_minor": 0
      },
      "text/plain": [
       "HBox(children=(FloatProgress(value=0.0, max=5.0), HTML(value='')))"
      ]
     },
     "metadata": {},
     "output_type": "display_data"
    },
    {
     "name": "stdout",
     "output_type": "stream",
     "text": [
      "[epoch : 0] (r_loss: x.xxxxx) (t_loss: x.xxxxx) (accu: 0.2783)\n",
      "[epoch : 1] (r_loss: 0.18543) (t_loss: 0.10953) (accu: 0.9651)\n",
      "[epoch : 2] (r_loss: 0.09727) (t_loss: 0.09330) (accu: 0.9704)\n",
      "[epoch : 3] (r_loss: 0.08337) (t_loss: 0.09006) (accu: 0.9723)\n",
      "[epoch : 4] (r_loss: 0.07435) (t_loss: 0.07700) (accu: 0.9768)\n",
      "[epoch : 5] (r_loss: 0.07193) (t_loss: 0.10080) (accu: 0.9677)\n",
      "\n",
      "---------------------------------------\n",
      "   Layer                     Weight                Ratio(%)\n",
      "all.weight   :      266200 (136511 | 129689)        51.28\n",
      "fc1.weight   :      235200 (120422 | 114778)        51.20\n",
      "fc2.weight   :       30000 (15360 | 14640)          51.20\n",
      "fc3.weight   :          1000 (729 | 271)            72.90\n",
      "---------------------------------------\n",
      "tensor([-0.0000, -0.0000,  0.0000, -0.0000,  0.0237,  0.0091, -0.0000,  0.0000,\n",
      "         0.0000,  0.0000,  0.0000, -0.0000, -0.0000, -0.0000, -0.0030, -0.0075,\n",
      "        -0.0380, -0.0176, -0.0050, -0.0005,  0.0231,  0.0343,  0.0102, -0.0256,\n",
      "        -0.0328], device='cuda:1', grad_fn=<SliceBackward>)\n",
      "Finish! (Best accu: 0.9768) (Time taken(sec) : 61.26) \n",
      "\n",
      "\n",
      "\n",
      "\n",
      "\n",
      "\n",
      "\n",
      "tensor([-0.0000, -0.0000,  0.0000, -0.0000, -0.0176, -0.0388, -0.0000,  0.0000,\n",
      "         0.0000,  0.0000,  0.0000, -0.0000, -0.0000, -0.0000,  0.0146,  0.0409,\n",
      "        -0.0027,  0.0476, -0.0080,  0.0000,  0.0281,  0.0333, -0.0130,  0.0091,\n",
      "         0.0487], device='cuda:1', grad_fn=<SliceBackward>)\n",
      "   Layer                     Weight                Ratio(%)\n",
      "all.weight   :      266200 (109282 | 156918)        41.05\n",
      "fc1.weight   :      235200 (96338 | 138862)         40.96\n",
      "fc2.weight   :       30000 (12288 | 17712)          40.96\n",
      "fc3.weight   :          1000 (656 | 344)            65.60\n",
      "Learning start!\n",
      "\n"
     ]
    },
    {
     "data": {
      "application/vnd.jupyter.widget-view+json": {
       "model_id": "954bf99084f240c0bc2d53d8b2dc343d",
       "version_major": 2,
       "version_minor": 0
      },
      "text/plain": [
       "HBox(children=(FloatProgress(value=0.0, max=5.0), HTML(value='')))"
      ]
     },
     "metadata": {},
     "output_type": "display_data"
    },
    {
     "name": "stdout",
     "output_type": "stream",
     "text": [
      "[epoch : 0] (r_loss: x.xxxxx) (t_loss: x.xxxxx) (accu: 0.2605)\n",
      "[epoch : 1] (r_loss: 0.18025) (t_loss: 0.10397) (accu: 0.9687)\n",
      "[epoch : 2] (r_loss: 0.09443) (t_loss: 0.10736) (accu: 0.9683)\n",
      "[epoch : 3] (r_loss: 0.08079) (t_loss: 0.08034) (accu: 0.9737)\n",
      "[epoch : 4] (r_loss: 0.07250) (t_loss: 0.08598) (accu: 0.9726)\n",
      "[epoch : 5] (r_loss: 0.06974) (t_loss: 0.08804) (accu: 0.9729)\n",
      "\n",
      "---------------------------------------\n",
      "   Layer                     Weight                Ratio(%)\n",
      "all.weight   :      266200 (109282 | 156918)        41.05\n",
      "fc1.weight   :      235200 (96338 | 138862)         40.96\n",
      "fc2.weight   :       30000 (12288 | 17712)          40.96\n",
      "fc3.weight   :          1000 (656 | 344)            65.60\n",
      "---------------------------------------\n",
      "tensor([-0.0000, -0.0000,  0.0000, -0.0000,  0.0365,  0.0442, -0.0000,  0.0000,\n",
      "         0.0000,  0.0000,  0.0000, -0.0000, -0.0000, -0.0000, -0.0310, -0.0110,\n",
      "         0.0021, -0.0024,  0.0060,  0.0000,  0.0446,  0.0371,  0.0449,  0.0140,\n",
      "        -0.0279], device='cuda:1', grad_fn=<SliceBackward>)\n",
      "Finish! (Best accu: 0.9737) (Time taken(sec) : 62.08) \n",
      "\n",
      "\n",
      "\n",
      "\n",
      "\n",
      "\n",
      "\n",
      "[[100.0, 4, 0.9716], [80.04, 3, 0.9676], [64.06, 3, 0.9723], [51.28, 3, 0.9768], [41.05, 2, 0.9737]]\n",
      "5\n",
      "Maximum accuracy weight remaining\n",
      "Remaining weight 100.0 %  Epoch 4 Accu 0.9716\n",
      "Remaining weight 80.0 %  Epoch 3 Accu 0.9676\n",
      "Remaining weight 64.1 %  Epoch 3 Accu 0.9723\n",
      "Remaining weight 51.3 %  Epoch 3 Accu 0.9768\n",
      "Remaining weight 41.0 %  Epoch 2 Accu 0.9737\n"
     ]
    }
   ],
   "source": [
    "for i in range(param.noi):\n",
    "    best_accu.append(0)\n",
    "    best_accu[i] = [0, 0, 0]\n",
    "    cp_mask = {}\n",
    "    \n",
    "\n",
    "    # pruning 및 mask 복사\n",
    "    # layer별 prune rate를 입력\n",
    "    cp_mask = weight_init(model, model_init, \n",
    "                           (1 - ((1-param.prune_per_c) ** i)),\n",
    "                           (1 - ((1-param.prune_per_f) ** i)),\n",
    "                           (1 - ((1-param.prune_per_o) ** i))\n",
    "                          )\n",
    "    print(model.fc1.weight[0][300:325])\n",
    "    \n",
    "    if i != 0:\n",
    "        hook.remove()\n",
    "\n",
    "    for name, module in model.named_modules():\n",
    "        if 'fc' in name:\n",
    "            module.weight.register_hook(lambda grad, name=name : grad.mul_(cp_mask[name]))\n",
    "    optimizer = optim.Adam(model.parameters(), lr = param.lr, weight_decay = param.weight_decay)\n",
    "    \"\"\"\n",
    "    j = 0\n",
    "    for name, module in model.named_modules():\n",
    "        if 'fc' in name:\n",
    "            module.weight.register_hook(lambda grad, j=j : grad.mul_(cp_mask[j]))\n",
    "            j += 1\n",
    "    optimizer = optim.Adam(model.parameters(), lr = param.lr, weight_decay = param.weight_decay)\n",
    "    \"\"\"\n",
    "    \"\"\"\n",
    "    j = 0\n",
    "    for name, data in (model.named_parameters()):\n",
    "        if 'weight' in name:\n",
    "            #module.weight.register_hook(lambda x, name=name: x*mask_dict[name])\n",
    "            #a = copy.deepcopy(lambda grad : grad.mul_(cp_mask[j]))\n",
    "            #print(a)\n",
    "            hook = data.register_hook(lambda grad, name=name : grad.mul_(cp_mask[j]))\n",
    "            #print(hook)\n",
    "            j += 1\n",
    "    optimizer = optim.Adam(model.parameters(), lr = param.lr, weight_decay = param.weight_decay)\n",
    "    \"\"\"\n",
    "    \n",
    "    \n",
    "    \n",
    "    \"\"\"hook = model.fc1.weight.register_hook(lambda grad: grad.mul_(cp_mask[0]))\n",
    "    hook = model.fc2.weight.register_hook(lambda grad: grad.mul_(cp_mask[1]))\n",
    "    hook = model.fc3.weight.register_hook(lambda grad: grad.mul_(cp_mask[2]))\n",
    "    optimizer = optim.Adam(model.parameters(), lr = param.lr, weight_decay = param.weight_decay)\"\"\"\n",
    "    \n",
    "    \n",
    "    \n",
    "    \n",
    "    # prune 진행 후 남은 weight 수 확인\n",
    "    weight_counts = weight_counter(model)\n",
    "    # 총 weight 중 남은 weight의 수 저장 (visdom plot시 사용하기 위함)\n",
    "    remaining_weight = weight_counts['all.weight'][3]\n",
    "    # 시작 시간 check\n",
    "    start_time = timeit.default_timer()\n",
    "    \n",
    "    \n",
    "    print(\"Learning start!\\n\")\n",
    "    for epoch in tqdm(range(param.epochs)):\n",
    "        # epoch가 0일때 정확도 계산\n",
    "        if epoch == 0:\n",
    "            accuracy, test_loss = test(model, param.test_loader, criterion)\n",
    "            visdom_plot(vis_plt,torch.Tensor([accuracy]), torch.Tensor([0]),\n",
    "                        str(remaining_weight)\n",
    "                       )\n",
    "            print('[epoch : %d]' % (epoch),\n",
    "             '(r_loss: x.xxxxx)',\n",
    "             '(t_loss: x.xxxxx)',\n",
    "             '(accu: %.4f)' % (accuracy)\n",
    "             )\n",
    "        # model training    \n",
    "        running_loss = train(model, param.train_loader, optimizer, criterion, cp_mask)\n",
    "        \n",
    "        # val_set이 있을 경우 val_set을 통해 loss, accu를 구한다.\n",
    "        if param.valset == 'empty':\n",
    "            accuracy, test_loss = test(model, param.test_loader, criterion)\n",
    "        else:\n",
    "            accuracy, test_loss = test(model, param.val_loader, criterion)\n",
    "        \n",
    "        # visdom plot (plot window, x-axis, y-axis, label name)\n",
    "        visdom_plot(vis_plt, torch.Tensor([(epoch+1) * 1000]), torch.Tensor([accuracy]),\n",
    "                    str(remaining_weight)\n",
    "                   )\n",
    "        \n",
    "        # best accuracy list (weight_remain, epoch, accuracy)\n",
    "        if best_accu[i][2] <= accuracy:\n",
    "            best_accu[i] = [remaining_weight, epoch, accuracy]\n",
    "        \n",
    "        print('[epoch : %d]' % (epoch+1),\n",
    "             '(r_loss: %.5f)' % (running_loss),\n",
    "             '(t_loss: %.5f)' % (test_loss),\n",
    "             '(accu: %.4f)' % (accuracy)\n",
    "             )\n",
    "        \n",
    "    print(\"---------------------------------------\")\n",
    "    weight_counts = weight_counter(model)\n",
    "    print(\"---------------------------------------\")    \n",
    "    print(model.fc1.weight[0][300:325])\n",
    "    stop_time = timeit.default_timer()    \n",
    "    print(\"Finish!\",\n",
    "          \"(Best accu: %.4f)\" % best_accu[i][2],\n",
    "          \"(Time taken(sec) : %.2f)\" % (stop_time - start_time),\n",
    "          \"\\n\\n\\n\\n\\n\\n\\n\")\n",
    "\n",
    "# iteration별 최고 정확도 확인\n",
    "best_accuracy(best_accu)"
   ]
  },
  {
   "cell_type": "code",
   "execution_count": 13,
   "metadata": {},
   "outputs": [
    {
     "data": {
      "text/plain": [
       "tensor([-0.0000, -0.0000,  0.0000, -0.0000,  0.0365,  0.0442, -0.0000,  0.0000,\n",
       "         0.0000,  0.0000,  0.0000, -0.0000, -0.0000, -0.0000, -0.0310, -0.0110,\n",
       "         0.0021, -0.0024,  0.0060,  0.0000,  0.0446,  0.0371,  0.0449,  0.0140,\n",
       "        -0.0279], device='cuda:1', grad_fn=<SliceBackward>)"
      ]
     },
     "execution_count": 13,
     "metadata": {},
     "output_type": "execute_result"
    }
   ],
   "source": [
    "model.fc1.weight[0][300:325]"
   ]
  },
  {
   "cell_type": "code",
   "execution_count": 14,
   "metadata": {},
   "outputs": [
    {
     "data": {
      "text/plain": [
       "300"
      ]
     },
     "execution_count": 14,
     "metadata": {},
     "output_type": "execute_result"
    }
   ],
   "source": [
    "len(cp_mask['fc1'])"
   ]
  },
  {
   "cell_type": "code",
   "execution_count": 15,
   "metadata": {},
   "outputs": [
    {
     "ename": "NameError",
     "evalue": "name 'a' is not defined",
     "output_type": "error",
     "traceback": [
      "\u001b[0;31m---------------------------------------------------------------------------\u001b[0m",
      "\u001b[0;31mNameError\u001b[0m                                 Traceback (most recent call last)",
      "\u001b[0;32m<ipython-input-15-816c8b57d665>\u001b[0m in \u001b[0;36m<module>\u001b[0;34m\u001b[0m\n\u001b[1;32m      1\u001b[0m \u001b[0;32mfor\u001b[0m \u001b[0mi\u001b[0m \u001b[0;32min\u001b[0m \u001b[0mrange\u001b[0m \u001b[0;34m(\u001b[0m\u001b[0;36m3\u001b[0m\u001b[0;34m)\u001b[0m\u001b[0;34m:\u001b[0m\u001b[0;34m\u001b[0m\u001b[0;34m\u001b[0m\u001b[0m\n\u001b[1;32m      2\u001b[0m     \u001b[0;32mlambda\u001b[0m \u001b[0ma\u001b[0m \u001b[0;34m:\u001b[0m \u001b[0ma\u001b[0m \u001b[0;34m+\u001b[0m \u001b[0;36m1\u001b[0m\u001b[0;34m\u001b[0m\u001b[0;34m\u001b[0m\u001b[0m\n\u001b[0;32m----> 3\u001b[0;31m     \u001b[0mprint\u001b[0m \u001b[0;34m(\u001b[0m\u001b[0ma\u001b[0m\u001b[0;34m)\u001b[0m\u001b[0;34m\u001b[0m\u001b[0;34m\u001b[0m\u001b[0m\n\u001b[0m",
      "\u001b[0;31mNameError\u001b[0m: name 'a' is not defined"
     ]
    }
   ],
   "source": [
    "for i in range (3):\n",
    "    lambda a : a + 1\n",
    "    print (a)"
   ]
  },
  {
   "cell_type": "code",
   "execution_count": null,
   "metadata": {},
   "outputs": [],
   "source": [
    "print(model.fc1.weight[0])"
   ]
  },
  {
   "cell_type": "code",
   "execution_count": null,
   "metadata": {},
   "outputs": [],
   "source": []
  }
 ],
 "metadata": {
  "kernelspec": {
   "display_name": "Python 3",
   "language": "python",
   "name": "python3"
  },
  "language_info": {
   "codemirror_mode": {
    "name": "ipython",
    "version": 3
   },
   "file_extension": ".py",
   "mimetype": "text/x-python",
   "name": "python",
   "nbconvert_exporter": "python",
   "pygments_lexer": "ipython3",
   "version": "3.7.6"
  }
 },
 "nbformat": 4,
 "nbformat_minor": 4
}
