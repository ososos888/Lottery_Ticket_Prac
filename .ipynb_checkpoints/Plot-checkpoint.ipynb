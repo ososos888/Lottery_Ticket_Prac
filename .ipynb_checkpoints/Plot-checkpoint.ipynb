{
 "cells": [
  {
   "cell_type": "code",
   "execution_count": 1,
   "metadata": {},
   "outputs": [],
   "source": [
    "import torch\n",
    "import visdom\n",
    "import copy"
   ]
  },
  {
   "cell_type": "code",
   "execution_count": 70,
   "metadata": {},
   "outputs": [],
   "source": [
    "def visdom_plot(loss_plot, num, loss_value, name):\n",
    "    vis.line(X = num,\n",
    "            Y = loss_value,\n",
    "            win = loss_plot,\n",
    "            name = str(name),\n",
    "            update = 'append'\n",
    "            )\n",
    "def Average_calc():\n",
    "    test_iter_average = {}\n",
    "    for prune_per in Result[1]:\n",
    "        test_iter_average[prune_per] = []\n",
    "        for epoch in Result[1][100]:\n",
    "            weightsum = 0.0\n",
    "            for test_iter in Result:\n",
    "                weightsum += Result[test_iter][prune_per][epoch]['Accuracy']\n",
    "            weightsum /= len(Result)\n",
    "            test_iter_average[prune_per].append(weightsum)\n",
    "    return test_iter_average\n",
    "\n",
    "def result_plot():\n",
    "    x = []\n",
    "    for i in range(epochs):\n",
    "        x.append(i*1000)\n",
    "        \n",
    "    for name in test_iter_average:\n",
    "        visdom_plot(vis_plt, torch.Tensor(x), torch.Tensor(test_iter_average[name]), name)\n",
    "    \"\"\"\n",
    "    for name in test_result_['Average of trials']:\n",
    "        visdom_plot(vis_plt, torch.Tensor(x), torch.Tensor(test_result_['Average of trials'][name][2]),\n",
    "                            name)\"\"\""
   ]
  },
  {
   "cell_type": "code",
   "execution_count": 59,
   "metadata": {},
   "outputs": [],
   "source": [
    "# file name\n",
    "fname = \"TESTMODEL5_AccuData\""
   ]
  },
  {
   "cell_type": "code",
   "execution_count": 73,
   "metadata": {},
   "outputs": [
    {
     "name": "stderr",
     "output_type": "stream",
     "text": [
      "Setting up a new session...\n"
     ]
    }
   ],
   "source": [
    "# visdom setting\n",
    "vis = visdom.Visdom()\n",
    "vis.close(env=\"main\")\n",
    "\n",
    "Tracker_type = \"Tracker\"\n",
    "title = fname + \"_\" + Tracker_type\n",
    "\n",
    "# make plot\n",
    "vis_plt = vis.line(X=torch.Tensor(1).zero_(), Y=torch.Tensor(1).zero_(), \n",
    "                    opts=dict(title = title,\n",
    "                              legend=['100.0'],\n",
    "                              showlegend=True,\n",
    "                              xtickmin = 0,\n",
    "                              xtickmax = 20000,\n",
    "                              ytickmin = 0.94,\n",
    "                              ytickmax = 0.99\n",
    "                             )\n",
    "                   )"
   ]
  },
  {
   "cell_type": "code",
   "execution_count": 71,
   "metadata": {},
   "outputs": [],
   "source": [
    "Result = torch.load(\"test_result/\" + fname)\n",
    "epochs = len(Result[1][100])\n",
    "\n",
    "test_iter_average = Average_calc()\n",
    "#print(test_iter_average)"
   ]
  },
  {
   "cell_type": "code",
   "execution_count": 74,
   "metadata": {},
   "outputs": [],
   "source": [
    "result_plot()"
   ]
  },
  {
   "cell_type": "code",
   "execution_count": 12,
   "metadata": {},
   "outputs": [
    {
     "data": {
      "text/plain": [
       "{1: {100.0: {0: {'Running_loss': 0,\n",
       "    'Test_loss': tensor(2.7366, device='cuda:1'),\n",
       "    'Accuracy': 0.1006},\n",
       "   1: {'Running_loss': tensor(0.4127, device='cuda:1', requires_grad=True),\n",
       "    'Test_loss': tensor(0.2405, device='cuda:1'),\n",
       "    'Accuracy': 0.9241},\n",
       "   2: {'Running_loss': tensor(0.2244, device='cuda:1', requires_grad=True),\n",
       "    'Test_loss': tensor(0.2164, device='cuda:1'),\n",
       "    'Accuracy': 0.9337}},\n",
       "  80.09: {0: {'Running_loss': 0,\n",
       "    'Test_loss': tensor(2.4103, device='cuda:1'),\n",
       "    'Accuracy': 0.1494},\n",
       "   1: {'Running_loss': tensor(0.3546, device='cuda:1', requires_grad=True),\n",
       "    'Test_loss': tensor(0.2308, device='cuda:1'),\n",
       "    'Accuracy': 0.9287},\n",
       "   2: {'Running_loss': tensor(0.2023, device='cuda:1', requires_grad=True),\n",
       "    'Test_loss': tensor(0.1862, device='cuda:1'),\n",
       "    'Accuracy': 0.9436}},\n",
       "  64.16: {0: {'Running_loss': 0,\n",
       "    'Test_loss': tensor(2.2625, device='cuda:1'),\n",
       "    'Accuracy': 0.1954},\n",
       "   1: {'Running_loss': tensor(0.3153, device='cuda:1', requires_grad=True),\n",
       "    'Test_loss': tensor(0.2020, device='cuda:1'),\n",
       "    'Accuracy': 0.9369},\n",
       "   2: {'Running_loss': tensor(0.1899, device='cuda:1', requires_grad=True),\n",
       "    'Test_loss': tensor(0.1767, device='cuda:1'),\n",
       "    'Accuracy': 0.9461}}},\n",
       " 2: {100.0: {0: {'Running_loss': 0,\n",
       "    'Test_loss': tensor(2.7366, device='cuda:1'),\n",
       "    'Accuracy': 0.1006},\n",
       "   1: {'Running_loss': tensor(0.4097, device='cuda:1', requires_grad=True),\n",
       "    'Test_loss': tensor(0.2225, device='cuda:1'),\n",
       "    'Accuracy': 0.9343},\n",
       "   2: {'Running_loss': tensor(0.2154, device='cuda:1', requires_grad=True),\n",
       "    'Test_loss': tensor(0.1941, device='cuda:1'),\n",
       "    'Accuracy': 0.9411}},\n",
       "  80.09: {0: {'Running_loss': 0,\n",
       "    'Test_loss': tensor(2.3988, device='cuda:1'),\n",
       "    'Accuracy': 0.1437},\n",
       "   1: {'Running_loss': tensor(0.3532, device='cuda:1', requires_grad=True),\n",
       "    'Test_loss': tensor(0.2196, device='cuda:1'),\n",
       "    'Accuracy': 0.9331},\n",
       "   2: {'Running_loss': tensor(0.1998, device='cuda:1', requires_grad=True),\n",
       "    'Test_loss': tensor(0.1986, device='cuda:1'),\n",
       "    'Accuracy': 0.9412}},\n",
       "  64.16: {0: {'Running_loss': 0,\n",
       "    'Test_loss': tensor(2.0645, device='cuda:1'),\n",
       "    'Accuracy': 0.2371},\n",
       "   1: {'Running_loss': tensor(0.3144, device='cuda:1', requires_grad=True),\n",
       "    'Test_loss': tensor(0.2009, device='cuda:1'),\n",
       "    'Accuracy': 0.9398},\n",
       "   2: {'Running_loss': tensor(0.1872, device='cuda:1', requires_grad=True),\n",
       "    'Test_loss': tensor(0.1744, device='cuda:1'),\n",
       "    'Accuracy': 0.9463}}}}"
      ]
     },
     "execution_count": 12,
     "metadata": {},
     "output_type": "execute_result"
    }
   ],
   "source": [
    "Result"
   ]
  }
 ],
 "metadata": {
  "kernelspec": {
   "display_name": "Python 3",
   "language": "python",
   "name": "python3"
  },
  "language_info": {
   "codemirror_mode": {
    "name": "ipython",
    "version": 3
   },
   "file_extension": ".py",
   "mimetype": "text/x-python",
   "name": "python",
   "nbconvert_exporter": "python",
   "pygments_lexer": "ipython3",
   "version": "3.7.6"
  }
 },
 "nbformat": 4,
 "nbformat_minor": 4
}
