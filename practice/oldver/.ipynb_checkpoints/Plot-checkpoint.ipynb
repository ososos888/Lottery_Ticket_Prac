{
 "cells": [
  {
   "cell_type": "code",
   "execution_count": 7,
   "metadata": {},
   "outputs": [],
   "source": [
    "import torch\n",
    "import visdom\n",
    "import copy\n",
    "import os"
   ]
  },
  {
   "cell_type": "code",
   "execution_count": null,
   "metadata": {},
   "outputs": [],
   "source": [
    "if __name__==\"__main__\":\n",
    "    # Make instance\n",
    "    parser = argparse.ArgumentParser()\n",
    "\n",
    "    # Register parameter value\n",
    "    parser.add_argument(\"--filename\", default = \"Lenet300_AccuData\", type=str, help=\"Check your test file name\")\n",
    "    parser.add_argument(\"--floder_location\", default='test_result', type=str)\n",
    "    parser.add_argument(\"--x_min\",default=0, type=float, help=\"Axis range\")\n",
    "    parser.add_argument(\"--x_max\",default=20000, type=float, help=\"Axis range\")\n",
    "    parser.add_argument(\"--y_min\", default=0.94, type=float, help=\"Axis range\")\n",
    "    parser.add_argument(\"--y_max\", default=0.99, type=float, help=\"Axis range\")\n",
    "    \n",
    "    # Save to args\n",
    "    args = parser.parse_args()"
   ]
  },
  {
   "cell_type": "code",
   "execution_count": 70,
   "metadata": {},
   "outputs": [],
   "source": [
    "def visdom_plot(loss_plot, num, loss_value, name):\n",
    "    vis.line(X = num,\n",
    "            Y = loss_value,\n",
    "            win = loss_plot,\n",
    "            name = str(name),\n",
    "            update = 'append'\n",
    "            )\n",
    "def Average_calc():\n",
    "    test_iter_average = {}\n",
    "    for prune_per in Result[1]:\n",
    "        test_iter_average[prune_per] = []\n",
    "        for epoch in Result[1][100]:\n",
    "            weightsum = 0.0\n",
    "            for test_iter in Result:\n",
    "                weightsum += Result[test_iter][prune_per][epoch]['Accuracy']\n",
    "            weightsum /= len(Result)\n",
    "            test_iter_average[prune_per].append(weightsum)\n",
    "    return test_iter_average\n",
    "\n",
    "def result_plot():\n",
    "    x = []\n",
    "    for i in range(epochs):\n",
    "        x.append(i*1000)\n",
    "        \n",
    "    for name in test_iter_average:\n",
    "        visdom_plot(vis_plt, torch.Tensor(x), torch.Tensor(test_iter_average[name]), name)\n",
    "    \"\"\"\n",
    "    for name in test_result_['Average of trials']:\n",
    "        visdom_plot(vis_plt, torch.Tensor(x), torch.Tensor(test_result_['Average of trials'][name][2]),\n",
    "                            name)\"\"\""
   ]
  },
  {
   "cell_type": "code",
   "execution_count": 59,
   "metadata": {},
   "outputs": [],
   "source": [
    "# file name\n",
    "fname = \"TESTMODEL5_AccuData\""
   ]
  },
  {
   "cell_type": "code",
   "execution_count": 73,
   "metadata": {},
   "outputs": [
    {
     "name": "stderr",
     "output_type": "stream",
     "text": [
      "Setting up a new session...\n"
     ]
    }
   ],
   "source": [
    "# visdom setting\n",
    "vis = visdom.Visdom()\n",
    "vis.close(env=\"main\")\n",
    "\n",
    "title = args.filename.split()\n",
    "title.append(\"Tracker\")\n",
    "title = \"_\".join(title)\n",
    "\n",
    "# make plot\n",
    "vis_plt = vis.line(X=torch.Tensor(1).zero_(), Y=torch.Tensor(1).zero_(), \n",
    "                    opts=dict(title = title,\n",
    "                              legend=['100.0'],\n",
    "                              showlegend=True,\n",
    "                              xtickmin = args.x_min,\n",
    "                              xtickmax = args.x_max,\n",
    "                              ytickmin = args.y_min,\n",
    "                              ytickmax = args.y_max\n",
    "                             )\n",
    "                   )"
   ]
  },
  {
   "cell_type": "code",
   "execution_count": 71,
   "metadata": {},
   "outputs": [],
   "source": [
    "Result = torch.load(os.path.join(args.folder_location, args.filename))\n",
    "epochs = len(Result[1][100])\n",
    "\n",
    "test_iter_average = Average_calc()\n",
    "#print(test_iter_average)"
   ]
  },
  {
   "cell_type": "code",
   "execution_count": 74,
   "metadata": {},
   "outputs": [],
   "source": [
    "result_plot()"
   ]
  }
 ],
 "metadata": {
  "kernelspec": {
   "display_name": "Python 3",
   "language": "python",
   "name": "python3"
  },
  "language_info": {
   "codemirror_mode": {
    "name": "ipython",
    "version": 3
   },
   "file_extension": ".py",
   "mimetype": "text/x-python",
   "name": "python",
   "nbconvert_exporter": "python",
   "pygments_lexer": "ipython3",
   "version": "3.7.6"
  }
 },
 "nbformat": 4,
 "nbformat_minor": 4
}
