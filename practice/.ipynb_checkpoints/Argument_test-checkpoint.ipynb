{
 "cells": [
  {
   "cell_type": "code",
   "execution_count": 1,
   "metadata": {},
   "outputs": [],
   "source": [
    "import argparse"
   ]
  },
  {
   "cell_type": "code",
   "execution_count": 13,
   "metadata": {},
   "outputs": [
    {
     "name": "stderr",
     "output_type": "stream",
     "text": [
      "usage: ipykernel_launcher.py [-h] [--lr LR] [--batch_size BATCH_SIZE]\n",
      "                             [--start_iter START_ITER] [--end_iter END_ITER]\n",
      "                             [--print_freq PRINT_FREQ]\n",
      "                             [--valid_freq VALID_FREQ] [--resume]\n",
      "                             [--prune_type PRUNE_TYPE] [--gpu GPU]\n",
      "                             [--dataset DATASET] [--arch_type ARCH_TYPE]\n",
      "                             [--prune_percent PRUNE_PERCENT]\n",
      "                             [--prune_iterations PRUNE_ITERATIONS]\n",
      "ipykernel_launcher.py: error: unrecognized arguments: -f /home/jinhyuk/.local/share/jupyter/runtime/kernel-bd77040b-4fd3-4f86-b6d5-e5bd2b89ae37.json\n"
     ]
    },
    {
     "ename": "SystemExit",
     "evalue": "2",
     "output_type": "error",
     "traceback": [
      "An exception has occurred, use %tb to see the full traceback.\n",
      "\u001b[0;31mSystemExit\u001b[0m\u001b[0;31m:\u001b[0m 2\n"
     ]
    }
   ],
   "source": [
    "# Arguement Parser\n",
    "\n",
    "# 인자값을 받을 수 있는 인스턴스 생성\n",
    "parser = argparse.ArgumentParser()\n",
    "\n",
    "#입력받을 인자값 등록\n",
    "parser.add_argument(\"--lr\",default= 1.2e-3, type=float, help=\"Learning rate\")\n",
    "parser.add_argument(\"--batch_size\", default=60, type=int)\n",
    "parser.add_argument(\"--start_iter\", default=0, type=int)\n",
    "parser.add_argument(\"--end_iter\", default=100, type=int)\n",
    "parser.add_argument(\"--print_freq\", default=1, type=int)\n",
    "parser.add_argument(\"--valid_freq\", default=1, type=int)\n",
    "parser.add_argument(\"--resume\", action=\"store_true\")\n",
    "parser.add_argument(\"--prune_type\", default=\"lt\", type=str, help=\"lt | reinit\")\n",
    "parser.add_argument(\"--gpu\", default=\"0\", type=str)\n",
    "parser.add_argument(\"--dataset\", default=\"mnist\", type=str, help=\"mnist | cifar10 | fashionmnist | cifar100\")\n",
    "parser.add_argument(\"--arch_type\", default=\"fc1\", type=str, help=\"fc1 | lenet5 | alexnet | vgg16 | resnet18 | densenet121\")\n",
    "parser.add_argument(\"--prune_percent\", default=10, type=int, help=\"Pruning percent\")\n",
    "parser.add_argument(\"--prune_iterations\", default=35, type=int, help=\"Pruning iterations count\")\n",
    "\n",
    "# 입력받은 인자값을 args에 저장\n",
    "args = parser.parse_args()\n"
   ]
  },
  {
   "cell_type": "code",
   "execution_count": 15,
   "metadata": {},
   "outputs": [
    {
     "ename": "NameError",
     "evalue": "name 'args' is not defined",
     "output_type": "error",
     "traceback": [
      "\u001b[0;31m---------------------------------------------------------------------------\u001b[0m",
      "\u001b[0;31mNameError\u001b[0m                                 Traceback (most recent call last)",
      "\u001b[0;32m<ipython-input-15-57ed411f54cc>\u001b[0m in \u001b[0;36m<module>\u001b[0;34m\u001b[0m\n\u001b[0;32m----> 1\u001b[0;31m \u001b[0mprint\u001b[0m\u001b[0;34m(\u001b[0m\u001b[0margs\u001b[0m\u001b[0;34m.\u001b[0m\u001b[0mlr\u001b[0m\u001b[0;34m)\u001b[0m\u001b[0;34m\u001b[0m\u001b[0;34m\u001b[0m\u001b[0m\n\u001b[0m",
      "\u001b[0;31mNameError\u001b[0m: name 'args' is not defined"
     ]
    }
   ],
   "source": [
    "print(args.lr)"
   ]
  }
 ],
 "metadata": {
  "kernelspec": {
   "display_name": "Python 3",
   "language": "python",
   "name": "python3"
  },
  "language_info": {
   "codemirror_mode": {
    "name": "ipython",
    "version": 3
   },
   "file_extension": ".py",
   "mimetype": "text/x-python",
   "name": "python",
   "nbconvert_exporter": "python",
   "pygments_lexer": "ipython3",
   "version": "3.7.6"
  }
 },
 "nbformat": 4,
 "nbformat_minor": 4
}
